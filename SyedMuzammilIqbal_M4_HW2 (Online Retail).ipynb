{
 "cells": [
  {
   "cell_type": "markdown",
   "metadata": {},
   "source": [
    "# Module 04: Unsupervised Learning (Assignment 2-B)"
   ]
  },
  {
   "cell_type": "markdown",
   "metadata": {},
   "source": [
    "In this assignment, we are supposed to apply Gaussian Mixture Models and Affinity Propagation algorithms on Online Retail data set to identify the different clusters present in the data. EDA on this data sets has been performed in assignment 1."
   ]
  },
  {
   "cell_type": "code",
   "execution_count": 1,
   "metadata": {},
   "outputs": [],
   "source": [
    "# importing relevant libraries\n",
    "\n",
    "import pandas as pd\n",
    "import numpy as np\n",
    "import seaborn as sns\n",
    "import matplotlib.pyplot as plt"
   ]
  },
  {
   "cell_type": "markdown",
   "metadata": {},
   "source": [
    "### Online Retail Dataset"
   ]
  },
  {
   "cell_type": "code",
   "execution_count": 2,
   "metadata": {},
   "outputs": [
    {
     "data": {
      "text/html": [
       "<div>\n",
       "<style scoped>\n",
       "    .dataframe tbody tr th:only-of-type {\n",
       "        vertical-align: middle;\n",
       "    }\n",
       "\n",
       "    .dataframe tbody tr th {\n",
       "        vertical-align: top;\n",
       "    }\n",
       "\n",
       "    .dataframe thead th {\n",
       "        text-align: right;\n",
       "    }\n",
       "</style>\n",
       "<table border=\"1\" class=\"dataframe\">\n",
       "  <thead>\n",
       "    <tr style=\"text-align: right;\">\n",
       "      <th></th>\n",
       "      <th>InvoiceNo</th>\n",
       "      <th>StockCode</th>\n",
       "      <th>Description</th>\n",
       "      <th>Quantity</th>\n",
       "      <th>InvoiceDate</th>\n",
       "      <th>UnitPrice</th>\n",
       "      <th>CustomerID</th>\n",
       "      <th>Country</th>\n",
       "    </tr>\n",
       "  </thead>\n",
       "  <tbody>\n",
       "    <tr>\n",
       "      <th>0</th>\n",
       "      <td>536365</td>\n",
       "      <td>85123A</td>\n",
       "      <td>WHITE HANGING HEART T-LIGHT HOLDER</td>\n",
       "      <td>6</td>\n",
       "      <td>12-01-10 8:26</td>\n",
       "      <td>2.55</td>\n",
       "      <td>17850.0</td>\n",
       "      <td>United Kingdom</td>\n",
       "    </tr>\n",
       "    <tr>\n",
       "      <th>1</th>\n",
       "      <td>536365</td>\n",
       "      <td>71053</td>\n",
       "      <td>WHITE METAL LANTERN</td>\n",
       "      <td>6</td>\n",
       "      <td>12-01-10 8:26</td>\n",
       "      <td>3.39</td>\n",
       "      <td>17850.0</td>\n",
       "      <td>United Kingdom</td>\n",
       "    </tr>\n",
       "    <tr>\n",
       "      <th>2</th>\n",
       "      <td>536365</td>\n",
       "      <td>84406B</td>\n",
       "      <td>CREAM CUPID HEARTS COAT HANGER</td>\n",
       "      <td>8</td>\n",
       "      <td>12-01-10 8:26</td>\n",
       "      <td>2.75</td>\n",
       "      <td>17850.0</td>\n",
       "      <td>United Kingdom</td>\n",
       "    </tr>\n",
       "    <tr>\n",
       "      <th>3</th>\n",
       "      <td>536365</td>\n",
       "      <td>84029G</td>\n",
       "      <td>KNITTED UNION FLAG HOT WATER BOTTLE</td>\n",
       "      <td>6</td>\n",
       "      <td>12-01-10 8:26</td>\n",
       "      <td>3.39</td>\n",
       "      <td>17850.0</td>\n",
       "      <td>United Kingdom</td>\n",
       "    </tr>\n",
       "    <tr>\n",
       "      <th>4</th>\n",
       "      <td>536365</td>\n",
       "      <td>84029E</td>\n",
       "      <td>RED WOOLLY HOTTIE WHITE HEART.</td>\n",
       "      <td>6</td>\n",
       "      <td>12-01-10 8:26</td>\n",
       "      <td>3.39</td>\n",
       "      <td>17850.0</td>\n",
       "      <td>United Kingdom</td>\n",
       "    </tr>\n",
       "  </tbody>\n",
       "</table>\n",
       "</div>"
      ],
      "text/plain": [
       "  InvoiceNo StockCode                          Description  Quantity  \\\n",
       "0    536365    85123A   WHITE HANGING HEART T-LIGHT HOLDER         6   \n",
       "1    536365     71053                  WHITE METAL LANTERN         6   \n",
       "2    536365    84406B       CREAM CUPID HEARTS COAT HANGER         8   \n",
       "3    536365    84029G  KNITTED UNION FLAG HOT WATER BOTTLE         6   \n",
       "4    536365    84029E       RED WOOLLY HOTTIE WHITE HEART.         6   \n",
       "\n",
       "     InvoiceDate  UnitPrice  CustomerID         Country  \n",
       "0  12-01-10 8:26       2.55     17850.0  United Kingdom  \n",
       "1  12-01-10 8:26       3.39     17850.0  United Kingdom  \n",
       "2  12-01-10 8:26       2.75     17850.0  United Kingdom  \n",
       "3  12-01-10 8:26       3.39     17850.0  United Kingdom  \n",
       "4  12-01-10 8:26       3.39     17850.0  United Kingdom  "
      ]
     },
     "execution_count": 2,
     "metadata": {},
     "output_type": "execute_result"
    }
   ],
   "source": [
    "# reading the dataset in python notebook\n",
    "df=pd.read_csv('Online_Retail.csv', encoding=\"ISO-8859–1\")\n",
    "df.head()"
   ]
  },
  {
   "cell_type": "markdown",
   "metadata": {},
   "source": [
    "#### 1. Data Cleaning"
   ]
  },
  {
   "cell_type": "code",
   "execution_count": 3,
   "metadata": {},
   "outputs": [],
   "source": [
    "# change the invoice_date format - String to Timestamp format\n",
    "df['InvoiceDate'] = pd.to_datetime(df.InvoiceDate)"
   ]
  },
  {
   "cell_type": "code",
   "execution_count": 4,
   "metadata": {},
   "outputs": [
    {
     "data": {
      "text/plain": [
       "InvoiceNo           0\n",
       "StockCode           0\n",
       "Description      1454\n",
       "Quantity            0\n",
       "InvoiceDate         0\n",
       "UnitPrice           0\n",
       "CustomerID     135080\n",
       "Country             0\n",
       "dtype: int64"
      ]
     },
     "execution_count": 4,
     "metadata": {},
     "output_type": "execute_result"
    }
   ],
   "source": [
    "# missing values\n",
    "df.isnull().sum()"
   ]
  },
  {
   "cell_type": "code",
   "execution_count": 5,
   "metadata": {},
   "outputs": [],
   "source": [
    "# dropping missing values\n",
    "df1 = df.dropna()"
   ]
  },
  {
   "cell_type": "code",
   "execution_count": 6,
   "metadata": {},
   "outputs": [
    {
     "data": {
      "text/html": [
       "<div>\n",
       "<style scoped>\n",
       "    .dataframe tbody tr th:only-of-type {\n",
       "        vertical-align: middle;\n",
       "    }\n",
       "\n",
       "    .dataframe tbody tr th {\n",
       "        vertical-align: top;\n",
       "    }\n",
       "\n",
       "    .dataframe thead th {\n",
       "        text-align: right;\n",
       "    }\n",
       "</style>\n",
       "<table border=\"1\" class=\"dataframe\">\n",
       "  <thead>\n",
       "    <tr style=\"text-align: right;\">\n",
       "      <th></th>\n",
       "      <th>InvoiceNo</th>\n",
       "      <th>StockCode</th>\n",
       "      <th>Description</th>\n",
       "      <th>Quantity</th>\n",
       "      <th>InvoiceDate</th>\n",
       "      <th>UnitPrice</th>\n",
       "      <th>CustomerID</th>\n",
       "      <th>Country</th>\n",
       "    </tr>\n",
       "  </thead>\n",
       "  <tbody>\n",
       "    <tr>\n",
       "      <th>count</th>\n",
       "      <td>406829</td>\n",
       "      <td>406829</td>\n",
       "      <td>406829</td>\n",
       "      <td>406829.000000</td>\n",
       "      <td>406829</td>\n",
       "      <td>406829.000000</td>\n",
       "      <td>406829.000000</td>\n",
       "      <td>406829</td>\n",
       "    </tr>\n",
       "    <tr>\n",
       "      <th>unique</th>\n",
       "      <td>22190</td>\n",
       "      <td>3684</td>\n",
       "      <td>3896</td>\n",
       "      <td>NaN</td>\n",
       "      <td>20460</td>\n",
       "      <td>NaN</td>\n",
       "      <td>NaN</td>\n",
       "      <td>37</td>\n",
       "    </tr>\n",
       "    <tr>\n",
       "      <th>top</th>\n",
       "      <td>576339</td>\n",
       "      <td>85123A</td>\n",
       "      <td>WHITE HANGING HEART T-LIGHT HOLDER</td>\n",
       "      <td>NaN</td>\n",
       "      <td>2011-11-14 15:27:00</td>\n",
       "      <td>NaN</td>\n",
       "      <td>NaN</td>\n",
       "      <td>United Kingdom</td>\n",
       "    </tr>\n",
       "    <tr>\n",
       "      <th>freq</th>\n",
       "      <td>542</td>\n",
       "      <td>2077</td>\n",
       "      <td>2070</td>\n",
       "      <td>NaN</td>\n",
       "      <td>543</td>\n",
       "      <td>NaN</td>\n",
       "      <td>NaN</td>\n",
       "      <td>361878</td>\n",
       "    </tr>\n",
       "    <tr>\n",
       "      <th>first</th>\n",
       "      <td>NaN</td>\n",
       "      <td>NaN</td>\n",
       "      <td>NaN</td>\n",
       "      <td>NaN</td>\n",
       "      <td>2010-12-01 08:26:00</td>\n",
       "      <td>NaN</td>\n",
       "      <td>NaN</td>\n",
       "      <td>NaN</td>\n",
       "    </tr>\n",
       "    <tr>\n",
       "      <th>last</th>\n",
       "      <td>NaN</td>\n",
       "      <td>NaN</td>\n",
       "      <td>NaN</td>\n",
       "      <td>NaN</td>\n",
       "      <td>2011-12-09 12:50:00</td>\n",
       "      <td>NaN</td>\n",
       "      <td>NaN</td>\n",
       "      <td>NaN</td>\n",
       "    </tr>\n",
       "    <tr>\n",
       "      <th>mean</th>\n",
       "      <td>NaN</td>\n",
       "      <td>NaN</td>\n",
       "      <td>NaN</td>\n",
       "      <td>12.061303</td>\n",
       "      <td>NaN</td>\n",
       "      <td>3.460471</td>\n",
       "      <td>15287.690570</td>\n",
       "      <td>NaN</td>\n",
       "    </tr>\n",
       "    <tr>\n",
       "      <th>std</th>\n",
       "      <td>NaN</td>\n",
       "      <td>NaN</td>\n",
       "      <td>NaN</td>\n",
       "      <td>248.693370</td>\n",
       "      <td>NaN</td>\n",
       "      <td>69.315162</td>\n",
       "      <td>1713.600303</td>\n",
       "      <td>NaN</td>\n",
       "    </tr>\n",
       "    <tr>\n",
       "      <th>min</th>\n",
       "      <td>NaN</td>\n",
       "      <td>NaN</td>\n",
       "      <td>NaN</td>\n",
       "      <td>-80995.000000</td>\n",
       "      <td>NaN</td>\n",
       "      <td>0.000000</td>\n",
       "      <td>12346.000000</td>\n",
       "      <td>NaN</td>\n",
       "    </tr>\n",
       "    <tr>\n",
       "      <th>25%</th>\n",
       "      <td>NaN</td>\n",
       "      <td>NaN</td>\n",
       "      <td>NaN</td>\n",
       "      <td>2.000000</td>\n",
       "      <td>NaN</td>\n",
       "      <td>1.250000</td>\n",
       "      <td>13953.000000</td>\n",
       "      <td>NaN</td>\n",
       "    </tr>\n",
       "    <tr>\n",
       "      <th>50%</th>\n",
       "      <td>NaN</td>\n",
       "      <td>NaN</td>\n",
       "      <td>NaN</td>\n",
       "      <td>5.000000</td>\n",
       "      <td>NaN</td>\n",
       "      <td>1.950000</td>\n",
       "      <td>15152.000000</td>\n",
       "      <td>NaN</td>\n",
       "    </tr>\n",
       "    <tr>\n",
       "      <th>75%</th>\n",
       "      <td>NaN</td>\n",
       "      <td>NaN</td>\n",
       "      <td>NaN</td>\n",
       "      <td>12.000000</td>\n",
       "      <td>NaN</td>\n",
       "      <td>3.750000</td>\n",
       "      <td>16791.000000</td>\n",
       "      <td>NaN</td>\n",
       "    </tr>\n",
       "    <tr>\n",
       "      <th>max</th>\n",
       "      <td>NaN</td>\n",
       "      <td>NaN</td>\n",
       "      <td>NaN</td>\n",
       "      <td>80995.000000</td>\n",
       "      <td>NaN</td>\n",
       "      <td>38970.000000</td>\n",
       "      <td>18287.000000</td>\n",
       "      <td>NaN</td>\n",
       "    </tr>\n",
       "  </tbody>\n",
       "</table>\n",
       "</div>"
      ],
      "text/plain": [
       "       InvoiceNo StockCode                         Description       Quantity  \\\n",
       "count     406829    406829                              406829  406829.000000   \n",
       "unique     22190      3684                                3896            NaN   \n",
       "top       576339    85123A  WHITE HANGING HEART T-LIGHT HOLDER            NaN   \n",
       "freq         542      2077                                2070            NaN   \n",
       "first        NaN       NaN                                 NaN            NaN   \n",
       "last         NaN       NaN                                 NaN            NaN   \n",
       "mean         NaN       NaN                                 NaN      12.061303   \n",
       "std          NaN       NaN                                 NaN     248.693370   \n",
       "min          NaN       NaN                                 NaN  -80995.000000   \n",
       "25%          NaN       NaN                                 NaN       2.000000   \n",
       "50%          NaN       NaN                                 NaN       5.000000   \n",
       "75%          NaN       NaN                                 NaN      12.000000   \n",
       "max          NaN       NaN                                 NaN   80995.000000   \n",
       "\n",
       "                InvoiceDate      UnitPrice     CustomerID         Country  \n",
       "count                406829  406829.000000  406829.000000          406829  \n",
       "unique                20460            NaN            NaN              37  \n",
       "top     2011-11-14 15:27:00            NaN            NaN  United Kingdom  \n",
       "freq                    543            NaN            NaN          361878  \n",
       "first   2010-12-01 08:26:00            NaN            NaN             NaN  \n",
       "last    2011-12-09 12:50:00            NaN            NaN             NaN  \n",
       "mean                    NaN       3.460471   15287.690570             NaN  \n",
       "std                     NaN      69.315162    1713.600303             NaN  \n",
       "min                     NaN       0.000000   12346.000000             NaN  \n",
       "25%                     NaN       1.250000   13953.000000             NaN  \n",
       "50%                     NaN       1.950000   15152.000000             NaN  \n",
       "75%                     NaN       3.750000   16791.000000             NaN  \n",
       "max                     NaN   38970.000000   18287.000000             NaN  "
      ]
     },
     "execution_count": 6,
     "metadata": {},
     "output_type": "execute_result"
    }
   ],
   "source": [
    "df1.describe(include='all')"
   ]
  },
  {
   "cell_type": "code",
   "execution_count": 7,
   "metadata": {},
   "outputs": [
    {
     "name": "stderr",
     "output_type": "stream",
     "text": [
      "<ipython-input-7-bd561e096772>:2: SettingWithCopyWarning: \n",
      "A value is trying to be set on a copy of a slice from a DataFrame.\n",
      "Try using .loc[row_indexer,col_indexer] = value instead\n",
      "\n",
      "See the caveats in the documentation: https://pandas.pydata.org/pandas-docs/stable/user_guide/indexing.html#returning-a-view-versus-a-copy\n",
      "  df1['CustomerID'] = df1['CustomerID'].astype('int64')\n"
     ]
    }
   ],
   "source": [
    "# change customer ID format - Float to Int type\n",
    "df1['CustomerID'] = df1['CustomerID'].astype('int64')"
   ]
  },
  {
   "cell_type": "code",
   "execution_count": 8,
   "metadata": {},
   "outputs": [],
   "source": [
    "# Removing negative quatities from dataset\n",
    "df1 = df1[df1.Quantity > 0]"
   ]
  },
  {
   "cell_type": "code",
   "execution_count": 9,
   "metadata": {},
   "outputs": [],
   "source": [
    "#creating amount spent column from quantity and unitprice column\n",
    "df1['AmountSpent'] = df1['Quantity'] * df1['UnitPrice']\n",
    "\n",
    "# creating year, month, day and hour columns from Invoice Date\n",
    "df1['year_month'] = df1['InvoiceDate'].map(lambda x: 100*x.year + x.month) \n",
    "df1['month'] = df1['InvoiceDate'].dt.month\n",
    "df1['day'] = df1['InvoiceDate'].dt.dayofweek\n",
    "df1['hour'] = df1['InvoiceDate'].dt.hour"
   ]
  },
  {
   "cell_type": "code",
   "execution_count": 10,
   "metadata": {},
   "outputs": [
    {
     "data": {
      "text/html": [
       "<div>\n",
       "<style scoped>\n",
       "    .dataframe tbody tr th:only-of-type {\n",
       "        vertical-align: middle;\n",
       "    }\n",
       "\n",
       "    .dataframe tbody tr th {\n",
       "        vertical-align: top;\n",
       "    }\n",
       "\n",
       "    .dataframe thead th {\n",
       "        text-align: right;\n",
       "    }\n",
       "</style>\n",
       "<table border=\"1\" class=\"dataframe\">\n",
       "  <thead>\n",
       "    <tr style=\"text-align: right;\">\n",
       "      <th></th>\n",
       "      <th>CustomerID</th>\n",
       "      <th>InvoiceNo</th>\n",
       "      <th>InvoiceDate</th>\n",
       "      <th>year_month</th>\n",
       "      <th>month</th>\n",
       "      <th>day</th>\n",
       "      <th>hour</th>\n",
       "      <th>StockCode</th>\n",
       "      <th>Description</th>\n",
       "      <th>Quantity</th>\n",
       "      <th>UnitPrice</th>\n",
       "      <th>AmountSpent</th>\n",
       "      <th>Country</th>\n",
       "    </tr>\n",
       "  </thead>\n",
       "  <tbody>\n",
       "    <tr>\n",
       "      <th>0</th>\n",
       "      <td>17850</td>\n",
       "      <td>536365</td>\n",
       "      <td>2010-12-01 08:26:00</td>\n",
       "      <td>201012</td>\n",
       "      <td>12</td>\n",
       "      <td>2</td>\n",
       "      <td>8</td>\n",
       "      <td>85123A</td>\n",
       "      <td>WHITE HANGING HEART T-LIGHT HOLDER</td>\n",
       "      <td>6</td>\n",
       "      <td>2.55</td>\n",
       "      <td>15.30</td>\n",
       "      <td>United Kingdom</td>\n",
       "    </tr>\n",
       "    <tr>\n",
       "      <th>1</th>\n",
       "      <td>17850</td>\n",
       "      <td>536365</td>\n",
       "      <td>2010-12-01 08:26:00</td>\n",
       "      <td>201012</td>\n",
       "      <td>12</td>\n",
       "      <td>2</td>\n",
       "      <td>8</td>\n",
       "      <td>71053</td>\n",
       "      <td>WHITE METAL LANTERN</td>\n",
       "      <td>6</td>\n",
       "      <td>3.39</td>\n",
       "      <td>20.34</td>\n",
       "      <td>United Kingdom</td>\n",
       "    </tr>\n",
       "    <tr>\n",
       "      <th>2</th>\n",
       "      <td>17850</td>\n",
       "      <td>536365</td>\n",
       "      <td>2010-12-01 08:26:00</td>\n",
       "      <td>201012</td>\n",
       "      <td>12</td>\n",
       "      <td>2</td>\n",
       "      <td>8</td>\n",
       "      <td>84406B</td>\n",
       "      <td>CREAM CUPID HEARTS COAT HANGER</td>\n",
       "      <td>8</td>\n",
       "      <td>2.75</td>\n",
       "      <td>22.00</td>\n",
       "      <td>United Kingdom</td>\n",
       "    </tr>\n",
       "    <tr>\n",
       "      <th>3</th>\n",
       "      <td>17850</td>\n",
       "      <td>536365</td>\n",
       "      <td>2010-12-01 08:26:00</td>\n",
       "      <td>201012</td>\n",
       "      <td>12</td>\n",
       "      <td>2</td>\n",
       "      <td>8</td>\n",
       "      <td>84029G</td>\n",
       "      <td>KNITTED UNION FLAG HOT WATER BOTTLE</td>\n",
       "      <td>6</td>\n",
       "      <td>3.39</td>\n",
       "      <td>20.34</td>\n",
       "      <td>United Kingdom</td>\n",
       "    </tr>\n",
       "    <tr>\n",
       "      <th>4</th>\n",
       "      <td>17850</td>\n",
       "      <td>536365</td>\n",
       "      <td>2010-12-01 08:26:00</td>\n",
       "      <td>201012</td>\n",
       "      <td>12</td>\n",
       "      <td>2</td>\n",
       "      <td>8</td>\n",
       "      <td>84029E</td>\n",
       "      <td>RED WOOLLY HOTTIE WHITE HEART.</td>\n",
       "      <td>6</td>\n",
       "      <td>3.39</td>\n",
       "      <td>20.34</td>\n",
       "      <td>United Kingdom</td>\n",
       "    </tr>\n",
       "  </tbody>\n",
       "</table>\n",
       "</div>"
      ],
      "text/plain": [
       "   CustomerID InvoiceNo         InvoiceDate  year_month  month  day  hour  \\\n",
       "0       17850    536365 2010-12-01 08:26:00      201012     12    2     8   \n",
       "1       17850    536365 2010-12-01 08:26:00      201012     12    2     8   \n",
       "2       17850    536365 2010-12-01 08:26:00      201012     12    2     8   \n",
       "3       17850    536365 2010-12-01 08:26:00      201012     12    2     8   \n",
       "4       17850    536365 2010-12-01 08:26:00      201012     12    2     8   \n",
       "\n",
       "  StockCode                          Description  Quantity  UnitPrice  \\\n",
       "0    85123A   WHITE HANGING HEART T-LIGHT HOLDER         6       2.55   \n",
       "1     71053                  WHITE METAL LANTERN         6       3.39   \n",
       "2    84406B       CREAM CUPID HEARTS COAT HANGER         8       2.75   \n",
       "3    84029G  KNITTED UNION FLAG HOT WATER BOTTLE         6       3.39   \n",
       "4    84029E       RED WOOLLY HOTTIE WHITE HEART.         6       3.39   \n",
       "\n",
       "   AmountSpent         Country  \n",
       "0        15.30  United Kingdom  \n",
       "1        20.34  United Kingdom  \n",
       "2        22.00  United Kingdom  \n",
       "3        20.34  United Kingdom  \n",
       "4        20.34  United Kingdom  "
      ]
     },
     "execution_count": 10,
     "metadata": {},
     "output_type": "execute_result"
    }
   ],
   "source": [
    "# rearranging all columns for better reference\n",
    "df1 = df1[['CustomerID','InvoiceNo','InvoiceDate','year_month','month','day','hour','StockCode',\n",
    "                 'Description','Quantity','UnitPrice','AmountSpent','Country']]\n",
    "\n",
    "df1.head()"
   ]
  },
  {
   "cell_type": "markdown",
   "metadata": {},
   "source": [
    "#### 2. Data Preparation for Model"
   ]
  },
  {
   "cell_type": "code",
   "execution_count": 11,
   "metadata": {},
   "outputs": [],
   "source": [
    "# Removing free orders\n",
    "df_paid = df1[df1.AmountSpent != 0]"
   ]
  },
  {
   "cell_type": "markdown",
   "metadata": {},
   "source": [
    "##### Monetary"
   ]
  },
  {
   "cell_type": "code",
   "execution_count": 12,
   "metadata": {},
   "outputs": [
    {
     "data": {
      "text/html": [
       "<div>\n",
       "<style scoped>\n",
       "    .dataframe tbody tr th:only-of-type {\n",
       "        vertical-align: middle;\n",
       "    }\n",
       "\n",
       "    .dataframe tbody tr th {\n",
       "        vertical-align: top;\n",
       "    }\n",
       "\n",
       "    .dataframe thead th {\n",
       "        text-align: right;\n",
       "    }\n",
       "</style>\n",
       "<table border=\"1\" class=\"dataframe\">\n",
       "  <thead>\n",
       "    <tr style=\"text-align: right;\">\n",
       "      <th></th>\n",
       "      <th>CustomerID</th>\n",
       "      <th>AmountSpent</th>\n",
       "    </tr>\n",
       "  </thead>\n",
       "  <tbody>\n",
       "    <tr>\n",
       "      <th>0</th>\n",
       "      <td>12346</td>\n",
       "      <td>77183.60</td>\n",
       "    </tr>\n",
       "    <tr>\n",
       "      <th>1</th>\n",
       "      <td>12347</td>\n",
       "      <td>4310.00</td>\n",
       "    </tr>\n",
       "    <tr>\n",
       "      <th>2</th>\n",
       "      <td>12348</td>\n",
       "      <td>1797.24</td>\n",
       "    </tr>\n",
       "    <tr>\n",
       "      <th>3</th>\n",
       "      <td>12349</td>\n",
       "      <td>1757.55</td>\n",
       "    </tr>\n",
       "    <tr>\n",
       "      <th>4</th>\n",
       "      <td>12350</td>\n",
       "      <td>334.40</td>\n",
       "    </tr>\n",
       "  </tbody>\n",
       "</table>\n",
       "</div>"
      ],
      "text/plain": [
       "   CustomerID  AmountSpent\n",
       "0       12346     77183.60\n",
       "1       12347      4310.00\n",
       "2       12348      1797.24\n",
       "3       12349      1757.55\n",
       "4       12350       334.40"
      ]
     },
     "execution_count": 12,
     "metadata": {},
     "output_type": "execute_result"
    }
   ],
   "source": [
    "monetary = df_paid.groupby(\"CustomerID\").AmountSpent.sum()\n",
    "monetary = monetary.reset_index()\n",
    "monetary.head()"
   ]
  },
  {
   "cell_type": "markdown",
   "metadata": {},
   "source": [
    "##### Frequency"
   ]
  },
  {
   "cell_type": "code",
   "execution_count": 13,
   "metadata": {},
   "outputs": [
    {
     "data": {
      "text/html": [
       "<div>\n",
       "<style scoped>\n",
       "    .dataframe tbody tr th:only-of-type {\n",
       "        vertical-align: middle;\n",
       "    }\n",
       "\n",
       "    .dataframe tbody tr th {\n",
       "        vertical-align: top;\n",
       "    }\n",
       "\n",
       "    .dataframe thead th {\n",
       "        text-align: right;\n",
       "    }\n",
       "</style>\n",
       "<table border=\"1\" class=\"dataframe\">\n",
       "  <thead>\n",
       "    <tr style=\"text-align: right;\">\n",
       "      <th></th>\n",
       "      <th>CustomerID</th>\n",
       "      <th>InvoiceNo</th>\n",
       "    </tr>\n",
       "  </thead>\n",
       "  <tbody>\n",
       "    <tr>\n",
       "      <th>0</th>\n",
       "      <td>12346</td>\n",
       "      <td>1</td>\n",
       "    </tr>\n",
       "    <tr>\n",
       "      <th>1</th>\n",
       "      <td>12347</td>\n",
       "      <td>182</td>\n",
       "    </tr>\n",
       "    <tr>\n",
       "      <th>2</th>\n",
       "      <td>12348</td>\n",
       "      <td>31</td>\n",
       "    </tr>\n",
       "    <tr>\n",
       "      <th>3</th>\n",
       "      <td>12349</td>\n",
       "      <td>73</td>\n",
       "    </tr>\n",
       "    <tr>\n",
       "      <th>4</th>\n",
       "      <td>12350</td>\n",
       "      <td>17</td>\n",
       "    </tr>\n",
       "  </tbody>\n",
       "</table>\n",
       "</div>"
      ],
      "text/plain": [
       "   CustomerID  InvoiceNo\n",
       "0       12346          1\n",
       "1       12347        182\n",
       "2       12348         31\n",
       "3       12349         73\n",
       "4       12350         17"
      ]
     },
     "execution_count": 13,
     "metadata": {},
     "output_type": "execute_result"
    }
   ],
   "source": [
    "frequency = df_paid.groupby(\"CustomerID\").InvoiceNo.count()\n",
    "frequency = frequency.reset_index()\n",
    "frequency.head()"
   ]
  },
  {
   "cell_type": "markdown",
   "metadata": {},
   "source": [
    "##### Recency"
   ]
  },
  {
   "cell_type": "code",
   "execution_count": 14,
   "metadata": {},
   "outputs": [
    {
     "name": "stderr",
     "output_type": "stream",
     "text": [
      "<ipython-input-14-5643a7a3274d>:4: SettingWithCopyWarning: \n",
      "A value is trying to be set on a copy of a slice from a DataFrame.\n",
      "Try using .loc[row_indexer,col_indexer] = value instead\n",
      "\n",
      "See the caveats in the documentation: https://pandas.pydata.org/pandas-docs/stable/user_guide/indexing.html#returning-a-view-versus-a-copy\n",
      "  df_paid['Diff'] = max_date - df_paid['InvoiceDate']\n"
     ]
    },
    {
     "data": {
      "text/html": [
       "<div>\n",
       "<style scoped>\n",
       "    .dataframe tbody tr th:only-of-type {\n",
       "        vertical-align: middle;\n",
       "    }\n",
       "\n",
       "    .dataframe tbody tr th {\n",
       "        vertical-align: top;\n",
       "    }\n",
       "\n",
       "    .dataframe thead th {\n",
       "        text-align: right;\n",
       "    }\n",
       "</style>\n",
       "<table border=\"1\" class=\"dataframe\">\n",
       "  <thead>\n",
       "    <tr style=\"text-align: right;\">\n",
       "      <th></th>\n",
       "      <th>CustomerID</th>\n",
       "      <th>Diff</th>\n",
       "    </tr>\n",
       "  </thead>\n",
       "  <tbody>\n",
       "    <tr>\n",
       "      <th>0</th>\n",
       "      <td>12346</td>\n",
       "      <td>326</td>\n",
       "    </tr>\n",
       "    <tr>\n",
       "      <th>1</th>\n",
       "      <td>12347</td>\n",
       "      <td>2</td>\n",
       "    </tr>\n",
       "    <tr>\n",
       "      <th>2</th>\n",
       "      <td>12348</td>\n",
       "      <td>75</td>\n",
       "    </tr>\n",
       "    <tr>\n",
       "      <th>3</th>\n",
       "      <td>12349</td>\n",
       "      <td>19</td>\n",
       "    </tr>\n",
       "    <tr>\n",
       "      <th>4</th>\n",
       "      <td>12350</td>\n",
       "      <td>310</td>\n",
       "    </tr>\n",
       "  </tbody>\n",
       "</table>\n",
       "</div>"
      ],
      "text/plain": [
       "   CustomerID  Diff\n",
       "0       12346   326\n",
       "1       12347     2\n",
       "2       12348    75\n",
       "3       12349    19\n",
       "4       12350   310"
      ]
     },
     "execution_count": 14,
     "metadata": {},
     "output_type": "execute_result"
    }
   ],
   "source": [
    "max_date = max(df_paid.InvoiceDate)\n",
    "max_date = max_date + pd.DateOffset(days = 1)\n",
    "\n",
    "df_paid['Diff'] = max_date - df_paid['InvoiceDate']\n",
    "\n",
    "recency = df_paid.groupby('CustomerID')['Diff'].min()\n",
    "recency = recency.reset_index()\n",
    "recency['Diff'] = recency['Diff'].dt.days\n",
    "recency.head()"
   ]
  },
  {
   "cell_type": "code",
   "execution_count": 15,
   "metadata": {},
   "outputs": [
    {
     "data": {
      "text/html": [
       "<div>\n",
       "<style scoped>\n",
       "    .dataframe tbody tr th:only-of-type {\n",
       "        vertical-align: middle;\n",
       "    }\n",
       "\n",
       "    .dataframe tbody tr th {\n",
       "        vertical-align: top;\n",
       "    }\n",
       "\n",
       "    .dataframe thead th {\n",
       "        text-align: right;\n",
       "    }\n",
       "</style>\n",
       "<table border=\"1\" class=\"dataframe\">\n",
       "  <thead>\n",
       "    <tr style=\"text-align: right;\">\n",
       "      <th></th>\n",
       "      <th>Recency</th>\n",
       "      <th>Frequency</th>\n",
       "      <th>Monetary</th>\n",
       "    </tr>\n",
       "  </thead>\n",
       "  <tbody>\n",
       "    <tr>\n",
       "      <th>0</th>\n",
       "      <td>326</td>\n",
       "      <td>1</td>\n",
       "      <td>77183.60</td>\n",
       "    </tr>\n",
       "    <tr>\n",
       "      <th>1</th>\n",
       "      <td>2</td>\n",
       "      <td>182</td>\n",
       "      <td>4310.00</td>\n",
       "    </tr>\n",
       "    <tr>\n",
       "      <th>2</th>\n",
       "      <td>75</td>\n",
       "      <td>31</td>\n",
       "      <td>1797.24</td>\n",
       "    </tr>\n",
       "    <tr>\n",
       "      <th>3</th>\n",
       "      <td>19</td>\n",
       "      <td>73</td>\n",
       "      <td>1757.55</td>\n",
       "    </tr>\n",
       "    <tr>\n",
       "      <th>4</th>\n",
       "      <td>310</td>\n",
       "      <td>17</td>\n",
       "      <td>334.40</td>\n",
       "    </tr>\n",
       "  </tbody>\n",
       "</table>\n",
       "</div>"
      ],
      "text/plain": [
       "   Recency  Frequency  Monetary\n",
       "0      326          1  77183.60\n",
       "1        2        182   4310.00\n",
       "2       75         31   1797.24\n",
       "3       19         73   1757.55\n",
       "4      310         17    334.40"
      ]
     },
     "execution_count": 15,
     "metadata": {},
     "output_type": "execute_result"
    }
   ],
   "source": [
    "df_cluster = pd.DataFrame()\n",
    "df_cluster['Recency'] = recency['Diff']\n",
    "df_cluster['Frequency'] = frequency['InvoiceNo']\n",
    "df_cluster['Monetary'] = monetary['AmountSpent']\n",
    "df_cluster.head()"
   ]
  },
  {
   "cell_type": "code",
   "execution_count": 16,
   "metadata": {},
   "outputs": [
    {
     "data": {
      "text/html": [
       "<div>\n",
       "<style scoped>\n",
       "    .dataframe tbody tr th:only-of-type {\n",
       "        vertical-align: middle;\n",
       "    }\n",
       "\n",
       "    .dataframe tbody tr th {\n",
       "        vertical-align: top;\n",
       "    }\n",
       "\n",
       "    .dataframe thead th {\n",
       "        text-align: right;\n",
       "    }\n",
       "</style>\n",
       "<table border=\"1\" class=\"dataframe\">\n",
       "  <thead>\n",
       "    <tr style=\"text-align: right;\">\n",
       "      <th></th>\n",
       "      <th>Recency</th>\n",
       "      <th>Frequency</th>\n",
       "      <th>Monetary</th>\n",
       "    </tr>\n",
       "  </thead>\n",
       "  <tbody>\n",
       "    <tr>\n",
       "      <th>0</th>\n",
       "      <td>5.786897</td>\n",
       "      <td>0.000000</td>\n",
       "      <td>11.253942</td>\n",
       "    </tr>\n",
       "    <tr>\n",
       "      <th>1</th>\n",
       "      <td>0.693147</td>\n",
       "      <td>5.204007</td>\n",
       "      <td>8.368693</td>\n",
       "    </tr>\n",
       "    <tr>\n",
       "      <th>2</th>\n",
       "      <td>4.317488</td>\n",
       "      <td>3.433987</td>\n",
       "      <td>7.494007</td>\n",
       "    </tr>\n",
       "    <tr>\n",
       "      <th>3</th>\n",
       "      <td>2.944439</td>\n",
       "      <td>4.290459</td>\n",
       "      <td>7.471676</td>\n",
       "    </tr>\n",
       "    <tr>\n",
       "      <th>4</th>\n",
       "      <td>5.736572</td>\n",
       "      <td>2.833213</td>\n",
       "      <td>5.812338</td>\n",
       "    </tr>\n",
       "  </tbody>\n",
       "</table>\n",
       "</div>"
      ],
      "text/plain": [
       "    Recency  Frequency   Monetary\n",
       "0  5.786897   0.000000  11.253942\n",
       "1  0.693147   5.204007   8.368693\n",
       "2  4.317488   3.433987   7.494007\n",
       "3  2.944439   4.290459   7.471676\n",
       "4  5.736572   2.833213   5.812338"
      ]
     },
     "execution_count": 16,
     "metadata": {},
     "output_type": "execute_result"
    }
   ],
   "source": [
    "# Logarithmic tranformation of clusters to remove skewedness\n",
    "df_cluster_log = np.log(df_cluster[['Recency', 'Frequency','Monetary']])\n",
    "df_cluster_log.head()"
   ]
  },
  {
   "cell_type": "markdown",
   "metadata": {},
   "source": [
    "#### 3. Clustering algorithms"
   ]
  },
  {
   "cell_type": "markdown",
   "metadata": {},
   "source": [
    "In this section, I will apply Gaussian Mixture Models and Affinity Propagation algorithms to identify different clusters present in Online Retail data set."
   ]
  },
  {
   "cell_type": "markdown",
   "metadata": {},
   "source": [
    "#### i) Gaussian Mixture Model"
   ]
  },
  {
   "cell_type": "code",
   "execution_count": 17,
   "metadata": {},
   "outputs": [],
   "source": [
    "from sklearn.preprocessing import StandardScaler\n",
    "\n",
    "scaler = StandardScaler()\n",
    "cluster_scaled = scaler.fit_transform(df_cluster_log)"
   ]
  },
  {
   "cell_type": "code",
   "execution_count": 18,
   "metadata": {},
   "outputs": [],
   "source": [
    "from sklearn.mixture import GaussianMixture\n",
    "X_train = cluster_scaled"
   ]
  },
  {
   "cell_type": "code",
   "execution_count": 19,
   "metadata": {},
   "outputs": [
    {
     "name": "stdout",
     "output_type": "stream",
     "text": [
      "[[ 0.94170236 -0.64856126 -0.43495649]\n",
      " [-0.630006    0.34546935  0.24797808]\n",
      " [ 0.20595958 -0.03397504 -0.04265786]]\n",
      "\n",
      "\n",
      "[[[ 0.16616222 -0.0759675  -0.13932195]\n",
      "  [-0.0759675   0.92106524  0.35298953]\n",
      "  [-0.13932195  0.35298953  0.71340366]]\n",
      "\n",
      " [[ 0.86291806 -0.31110187 -0.41463279]\n",
      "  [-0.31110187  1.03895714  0.82209614]\n",
      "  [-0.41463279  0.82209614  1.22159013]]\n",
      "\n",
      " [[ 0.60896507 -0.30567254 -0.33061373]\n",
      "  [-0.30567254  0.60157731  0.64375545]\n",
      "  [-0.33061373  0.64375545  0.71103238]]]\n"
     ]
    }
   ],
   "source": [
    "gmm = GaussianMixture(n_components=3, covariance_type='full', random_state=42)\n",
    "gmm.fit(X_train)\n",
    "\n",
    "\n",
    "print(gmm.means_)\n",
    "print('\\n')\n",
    "print(gmm.covariances_)"
   ]
  },
  {
   "cell_type": "code",
   "execution_count": 20,
   "metadata": {},
   "outputs": [
    {
     "name": "stdout",
     "output_type": "stream",
     "text": [
      " Guassian Mixture Models\n",
      " Silhoutte Score: 0.027\n",
      " Davies-Bouldin Score: 2.24\n",
      " Calinski-Harabasz Score: 703.067\n",
      " Number of clusters: 3\n"
     ]
    },
    {
     "data": {
      "image/png": "[encoded data removed]",
      "text/plain": [
       "<Figure size 1200x800 with 1 Axes>"
      ]
     },
     "metadata": {},
     "output_type": "display_data"
    }
   ],
   "source": [
    "from sklearn import metrics\n",
    "labels = gmm.predict(X_train)\n",
    "fig = plt.figure(num=None, figsize=(15, 10), dpi=80, facecolor='w', edgecolor='k')\n",
    "ax = plt.axes(projection=\"3d\")\n",
    "\n",
    "ax.scatter3D(df_cluster['Recency'],df_cluster['Frequency'],df_cluster['Monetary'],c=labels, cmap='rainbow')\n",
    "\n",
    "xLabel = ax.set_xlabel('Recency', linespacing=3.2)\n",
    "yLabel = ax.set_ylabel('Frequency', linespacing=3.1)\n",
    "zLabel = ax.set_zlabel('Monetary', linespacing=3.4)\n",
    "\n",
    "labels_unique = np.unique(labels)\n",
    "n_clusters_ = len(labels_unique)\n",
    "Si=metrics.silhouette_score(X_train, labels, metric='euclidean').round(3)\n",
    "DB=metrics.davies_bouldin_score(X_train, labels).round(3)\n",
    "CH=metrics.calinski_harabasz_score(X_train, labels).round(3)\n",
    "\n",
    "print(\" Guassian Mixture Models\")\n",
    "print(\" Silhoutte Score:\",Si)\n",
    "print(\" Davies-Bouldin Score:\",DB)\n",
    "print(\" Calinski-Harabasz Score:\",CH)\n",
    "print(\" Number of clusters:\",n_clusters_)"
   ]
  },
  {
   "cell_type": "code",
   "execution_count": 21,
   "metadata": {},
   "outputs": [
    {
     "data": {
      "text/html": [
       "<div>\n",
       "<style scoped>\n",
       "    .dataframe tbody tr th:only-of-type {\n",
       "        vertical-align: middle;\n",
       "    }\n",
       "\n",
       "    .dataframe tbody tr th {\n",
       "        vertical-align: top;\n",
       "    }\n",
       "\n",
       "    .dataframe thead th {\n",
       "        text-align: right;\n",
       "    }\n",
       "</style>\n",
       "<table border=\"1\" class=\"dataframe\">\n",
       "  <thead>\n",
       "    <tr style=\"text-align: right;\">\n",
       "      <th></th>\n",
       "      <th>Recency</th>\n",
       "      <th>Frequency</th>\n",
       "      <th>Monetary</th>\n",
       "    </tr>\n",
       "    <tr>\n",
       "      <th>Cluster</th>\n",
       "      <th></th>\n",
       "      <th></th>\n",
       "      <th></th>\n",
       "    </tr>\n",
       "  </thead>\n",
       "  <tbody>\n",
       "    <tr>\n",
       "      <th>0</th>\n",
       "      <td>203.1</td>\n",
       "      <td>31.1</td>\n",
       "      <td>901.8</td>\n",
       "    </tr>\n",
       "    <tr>\n",
       "      <th>1</th>\n",
       "      <td>24.0</td>\n",
       "      <td>157.7</td>\n",
       "      <td>3670.5</td>\n",
       "    </tr>\n",
       "    <tr>\n",
       "      <th>2</th>\n",
       "      <td>103.9</td>\n",
       "      <td>59.7</td>\n",
       "      <td>1117.3</td>\n",
       "    </tr>\n",
       "  </tbody>\n",
       "</table>\n",
       "</div>"
      ],
      "text/plain": [
       "         Recency  Frequency  Monetary\n",
       "Cluster                              \n",
       "0          203.1       31.1     901.8\n",
       "1           24.0      157.7    3670.5\n",
       "2          103.9       59.7    1117.3"
      ]
     },
     "execution_count": 21,
     "metadata": {},
     "output_type": "execute_result"
    }
   ],
   "source": [
    "df_clustered_hac = df_cluster.assign(Cluster=labels)\n",
    "grouped_hac = df_clustered_hac.groupby(['Cluster']).mean().round(1)\n",
    "grouped_hac"
   ]
  },
  {
   "cell_type": "markdown",
   "metadata": {},
   "source": [
    "#### GMM algorithm with different hyper parameters"
   ]
  },
  {
   "cell_type": "code",
   "execution_count": 22,
   "metadata": {},
   "outputs": [
    {
     "name": "stdout",
     "output_type": "stream",
     "text": [
      " Guassian Mixture Models (n_components=2, covariance_type='full')\n",
      "\n",
      "\n",
      " Silhoutte Score: 0.266\n",
      " Davies-Bouldin Score: 1.27\n",
      " Calinski-Harabasz Score: 1865.101\n",
      " Number of clusters: 2\n"
     ]
    }
   ],
   "source": [
    "# Guassian Mixture Models (n_components=2, covariance_type='full')\n",
    "gmm1 = GaussianMixture(n_components=2, covariance_type='full', random_state=42)\n",
    "gmm1.fit(X_train)\n",
    "labels1 = gmm1.predict(X_train)\n",
    "\n",
    "labels_unique = np.unique(labels1)\n",
    "n_clusters_1 = len(labels_unique)\n",
    "Si_1=metrics.silhouette_score(X_train, labels1, metric='euclidean').round(3)\n",
    "DB_1=metrics.davies_bouldin_score(X_train, labels1).round(3)\n",
    "CH_1=metrics.calinski_harabasz_score(X_train, labels1).round(3)\n",
    "\n",
    "print(\" Guassian Mixture Models (n_components=2, covariance_type='full')\")\n",
    "print('\\n')\n",
    "print(\" Silhoutte Score:\",Si_1)\n",
    "print(\" Davies-Bouldin Score:\",DB_1)\n",
    "print(\" Calinski-Harabasz Score:\",CH_1)\n",
    "print(\" Number of clusters:\",n_clusters_1)"
   ]
  },
  {
   "cell_type": "code",
   "execution_count": 23,
   "metadata": {},
   "outputs": [
    {
     "name": "stdout",
     "output_type": "stream",
     "text": [
      " Guassian Mixture Models (n_components=2, covariance_type='tied')\n",
      "\n",
      "\n",
      " Silhoutte Score: 0.321\n",
      " Davies-Bouldin Score: 1.172\n",
      " Calinski-Harabasz Score: 1798.862\n",
      " Number of clusters: 2\n"
     ]
    }
   ],
   "source": [
    "# Guassian Mixture Models (n_components=2, covariance_type='tied')\n",
    "gmm2 = GaussianMixture(n_components=2, covariance_type='tied', random_state=42)\n",
    "gmm2.fit(X_train)\n",
    "labels2 = gmm2.predict(X_train)\n",
    "\n",
    "labels_unique = np.unique(labels2)\n",
    "n_clusters_2 = len(labels_unique)\n",
    "Si_2=metrics.silhouette_score(X_train, labels2, metric='euclidean').round(3)\n",
    "DB_2=metrics.davies_bouldin_score(X_train, labels2).round(3)\n",
    "CH_2=metrics.calinski_harabasz_score(X_train, labels2).round(3)\n",
    "\n",
    "print(\" Guassian Mixture Models (n_components=2, covariance_type='tied')\")\n",
    "print('\\n')\n",
    "print(\" Silhoutte Score:\",Si_2)\n",
    "print(\" Davies-Bouldin Score:\",DB_2)\n",
    "print(\" Calinski-Harabasz Score:\",CH_2)\n",
    "print(\" Number of clusters:\",n_clusters_2)"
   ]
  },
  {
   "cell_type": "code",
   "execution_count": 24,
   "metadata": {},
   "outputs": [
    {
     "name": "stdout",
     "output_type": "stream",
     "text": [
      " Guassian Mixture Models (n_components=2, covariance_type='diag')\n",
      "\n",
      "\n",
      " Silhoutte Score: 0.394\n",
      " Davies-Bouldin Score: 0.952\n",
      " Calinski-Harabasz Score: 3831.583\n",
      " Number of clusters: 2\n"
     ]
    }
   ],
   "source": [
    "# Guassian Mixture Models (n_components=2, covariance_type='diag')\n",
    "gmm3 = GaussianMixture(n_components=2, covariance_type='diag', random_state=42)\n",
    "gmm3.fit(X_train)\n",
    "labels3 = gmm3.predict(X_train)\n",
    "\n",
    "labels_unique = np.unique(labels3)\n",
    "n_clusters_3 = len(labels_unique)\n",
    "Si_3=metrics.silhouette_score(X_train, labels3, metric='euclidean').round(3)\n",
    "DB_3=metrics.davies_bouldin_score(X_train, labels3).round(3)\n",
    "CH_3=metrics.calinski_harabasz_score(X_train, labels3).round(3)\n",
    "\n",
    "print(\" Guassian Mixture Models (n_components=2, covariance_type='diag')\")\n",
    "print('\\n')\n",
    "print(\" Silhoutte Score:\",Si_3)\n",
    "print(\" Davies-Bouldin Score:\",DB_3)\n",
    "print(\" Calinski-Harabasz Score:\",CH_3)\n",
    "print(\" Number of clusters:\",n_clusters_3)"
   ]
  },
  {
   "cell_type": "code",
   "execution_count": 25,
   "metadata": {},
   "outputs": [
    {
     "name": "stdout",
     "output_type": "stream",
     "text": [
      " Guassian Mixture Models (n_components=3, covariance_type='tied')\n",
      "\n",
      "\n",
      " Silhoutte Score: 0.213\n",
      " Davies-Bouldin Score: 1.454\n",
      " Calinski-Harabasz Score: 1456.752\n",
      " Number of clusters: 3\n"
     ]
    }
   ],
   "source": [
    "# Guassian Mixture Models (n_components=3, covariance_type='tied')\n",
    "gmm4 = GaussianMixture(n_components=3, covariance_type='tied', random_state=42)\n",
    "gmm4.fit(X_train)\n",
    "labels4 = gmm4.predict(X_train)\n",
    "\n",
    "labels_unique = np.unique(labels4)\n",
    "n_clusters_4 = len(labels_unique)\n",
    "Si_4=metrics.silhouette_score(X_train, labels4, metric='euclidean').round(3)\n",
    "DB_4=metrics.davies_bouldin_score(X_train, labels4).round(3)\n",
    "CH_4=metrics.calinski_harabasz_score(X_train, labels4).round(3)\n",
    "\n",
    "print(\" Guassian Mixture Models (n_components=3, covariance_type='tied')\")\n",
    "print('\\n')\n",
    "print(\" Silhoutte Score:\",Si_4)\n",
    "print(\" Davies-Bouldin Score:\",DB_4)\n",
    "print(\" Calinski-Harabasz Score:\",CH_4)\n",
    "print(\" Number of clusters:\",n_clusters_4)"
   ]
  },
  {
   "cell_type": "code",
   "execution_count": 26,
   "metadata": {},
   "outputs": [
    {
     "name": "stdout",
     "output_type": "stream",
     "text": [
      " Guassian Mixture Models (n_components=3, covariance_type='diag')\n",
      "\n",
      "\n",
      " Silhoutte Score: 0.287\n",
      " Davies-Bouldin Score: 1.138\n",
      " Calinski-Harabasz Score: 2939.585\n",
      " Number of clusters: 3\n"
     ]
    }
   ],
   "source": [
    "# Guassian Mixture Models (n_components=3, covariance_type='diag')\n",
    "gmm5 = GaussianMixture(n_components=3, covariance_type='diag', random_state=42)\n",
    "gmm5.fit(X_train)\n",
    "labels5 = gmm5.predict(X_train)\n",
    "\n",
    "labels_unique = np.unique(labels5)\n",
    "n_clusters_5 = len(labels_unique)\n",
    "Si_5=metrics.silhouette_score(X_train, labels5, metric='euclidean').round(3)\n",
    "DB_5=metrics.davies_bouldin_score(X_train, labels5).round(3)\n",
    "CH_5=metrics.calinski_harabasz_score(X_train, labels5).round(3)\n",
    "\n",
    "print(\" Guassian Mixture Models (n_components=3, covariance_type='diag')\")\n",
    "print('\\n')\n",
    "print(\" Silhoutte Score:\",Si_5)\n",
    "print(\" Davies-Bouldin Score:\",DB_5)\n",
    "print(\" Calinski-Harabasz Score:\",CH_5)\n",
    "print(\" Number of clusters:\",n_clusters_5)"
   ]
  },
  {
   "cell_type": "code",
   "execution_count": 27,
   "metadata": {},
   "outputs": [
    {
     "name": "stdout",
     "output_type": "stream",
     "text": [
      " Guassian Mixture Models (n_components=4, covariance_type='full')\n",
      "\n",
      "\n",
      " Silhoutte Score: 0.04\n",
      " Davies-Bouldin Score: 2.187\n",
      " Calinski-Harabasz Score: 788.728\n",
      " Number of clusters: 4\n"
     ]
    }
   ],
   "source": [
    "# Guassian Mixture Models (n_components=4, covariance_type='full')\n",
    "gmm6 = GaussianMixture(n_components=4, covariance_type='full', random_state=42)\n",
    "gmm6.fit(X_train)\n",
    "labels6 = gmm6.predict(X_train)\n",
    "\n",
    "labels_unique = np.unique(labels6)\n",
    "n_clusters_6 = len(labels_unique)\n",
    "Si_6=metrics.silhouette_score(X_train, labels6, metric='euclidean').round(3)\n",
    "DB_6=metrics.davies_bouldin_score(X_train, labels6).round(3)\n",
    "CH_6=metrics.calinski_harabasz_score(X_train, labels6).round(3)\n",
    "\n",
    "print(\" Guassian Mixture Models (n_components=4, covariance_type='full')\")\n",
    "print('\\n')\n",
    "print(\" Silhoutte Score:\",Si_6)\n",
    "print(\" Davies-Bouldin Score:\",DB_6)\n",
    "print(\" Calinski-Harabasz Score:\",CH_6)\n",
    "print(\" Number of clusters:\",n_clusters_6)"
   ]
  },
  {
   "cell_type": "code",
   "execution_count": 28,
   "metadata": {},
   "outputs": [
    {
     "name": "stdout",
     "output_type": "stream",
     "text": [
      " Guassian Mixture Models (n_components=4, covariance_type='tied')\n",
      "\n",
      "\n",
      " Silhoutte Score: 0.29\n",
      " Davies-Bouldin Score: 1.054\n",
      " Calinski-Harabasz Score: 2260.788\n",
      " Number of clusters: 4\n"
     ]
    }
   ],
   "source": [
    "# Guassian Mixture Models (n_components=4, covariance_type='tied')\n",
    "gmm7 = GaussianMixture(n_components=4, covariance_type='tied', random_state=42)\n",
    "gmm7.fit(X_train)\n",
    "labels7 = gmm7.predict(X_train)\n",
    "\n",
    "labels_unique = np.unique(labels7)\n",
    "n_clusters_7 = len(labels_unique)\n",
    "Si_7=metrics.silhouette_score(X_train, labels7, metric='euclidean').round(3)\n",
    "DB_7=metrics.davies_bouldin_score(X_train, labels7).round(3)\n",
    "CH_7=metrics.calinski_harabasz_score(X_train, labels7).round(3)\n",
    "\n",
    "print(\" Guassian Mixture Models (n_components=4, covariance_type='tied')\")\n",
    "print('\\n')\n",
    "print(\" Silhoutte Score:\",Si_7)\n",
    "print(\" Davies-Bouldin Score:\",DB_7)\n",
    "print(\" Calinski-Harabasz Score:\",CH_7)\n",
    "print(\" Number of clusters:\",n_clusters_7)"
   ]
  },
  {
   "cell_type": "code",
   "execution_count": 29,
   "metadata": {},
   "outputs": [
    {
     "name": "stdout",
     "output_type": "stream",
     "text": [
      " Guassian Mixture Models (n_components=4, covariance_type='diag')\n",
      "\n",
      "\n",
      " Silhoutte Score: 0.29\n",
      " Davies-Bouldin Score: 1.054\n",
      " Calinski-Harabasz Score: 2260.788\n",
      " Number of clusters: 4\n"
     ]
    }
   ],
   "source": [
    "# Guassian Mixture Models (n_components=4, covariance_type='diag')\n",
    "gmm8 = GaussianMixture(n_components=4, covariance_type='tied', random_state=42)\n",
    "gmm8.fit(X_train)\n",
    "labels8 = gmm8.predict(X_train)\n",
    "\n",
    "labels_unique = np.unique(labels8)\n",
    "n_clusters_8 = len(labels_unique)\n",
    "Si_8=metrics.silhouette_score(X_train, labels8, metric='euclidean').round(3)\n",
    "DB_8=metrics.davies_bouldin_score(X_train, labels8).round(3)\n",
    "CH_8=metrics.calinski_harabasz_score(X_train, labels8).round(3)\n",
    "\n",
    "print(\" Guassian Mixture Models (n_components=4, covariance_type='diag')\")\n",
    "print('\\n')\n",
    "print(\" Silhoutte Score:\",Si_8)\n",
    "print(\" Davies-Bouldin Score:\",DB_8)\n",
    "print(\" Calinski-Harabasz Score:\",CH_8)\n",
    "print(\" Number of clusters:\",n_clusters_8)"
   ]
  },
  {
   "cell_type": "code",
   "execution_count": 30,
   "metadata": {},
   "outputs": [
    {
     "name": "stdout",
     "output_type": "stream",
     "text": [
      " Guassian Mixture Models (n_components=5, covariance_type='full')\n",
      "\n",
      "\n",
      " Silhoutte Score: 0.092\n",
      " Davies-Bouldin Score: 2.406\n",
      " Calinski-Harabasz Score: 907.477\n",
      " Number of clusters: 5\n"
     ]
    }
   ],
   "source": [
    "# Guassian Mixture Models (n_components=5, covariance_type='full')\n",
    "gmm9 = GaussianMixture(n_components=5, covariance_type='full', random_state=42)\n",
    "gmm9.fit(X_train)\n",
    "labels9 = gmm9.predict(X_train)\n",
    "\n",
    "labels_unique = np.unique(labels9)\n",
    "n_clusters_9 = len(labels_unique)\n",
    "Si_9=metrics.silhouette_score(X_train, labels9, metric='euclidean').round(3)\n",
    "DB_9=metrics.davies_bouldin_score(X_train, labels9).round(3)\n",
    "CH_9=metrics.calinski_harabasz_score(X_train, labels9).round(3)\n",
    "\n",
    "print(\" Guassian Mixture Models (n_components=5, covariance_type='full')\")\n",
    "print('\\n')\n",
    "print(\" Silhoutte Score:\",Si_9)\n",
    "print(\" Davies-Bouldin Score:\",DB_9)\n",
    "print(\" Calinski-Harabasz Score:\",CH_9)\n",
    "print(\" Number of clusters:\",n_clusters_9)"
   ]
  },
  {
   "cell_type": "code",
   "execution_count": 31,
   "metadata": {},
   "outputs": [
    {
     "name": "stdout",
     "output_type": "stream",
     "text": [
      " Guassian Mixture Models (n_components=5, covariance_type='tied')\n",
      "\n",
      "\n",
      " Silhoutte Score: 0.209\n",
      " Davies-Bouldin Score: 1.397\n",
      " Calinski-Harabasz Score: 1140.56\n",
      " Number of clusters: 5\n"
     ]
    }
   ],
   "source": [
    "# Guassian Mixture Models (n_components=5, covariance_type='tied')\n",
    "gmm10 = GaussianMixture(n_components=5, covariance_type='tied', random_state=42)\n",
    "gmm10.fit(X_train)\n",
    "labels10 = gmm10.predict(X_train)\n",
    "\n",
    "labels_unique = np.unique(labels10)\n",
    "n_clusters_10 = len(labels_unique)\n",
    "Si_10=metrics.silhouette_score(X_train, labels10, metric='euclidean').round(3)\n",
    "DB_10=metrics.davies_bouldin_score(X_train, labels10).round(3)\n",
    "CH_10=metrics.calinski_harabasz_score(X_train, labels10).round(3)\n",
    "\n",
    "print(\" Guassian Mixture Models (n_components=5, covariance_type='tied')\")\n",
    "print('\\n')\n",
    "print(\" Silhoutte Score:\",Si_10)\n",
    "print(\" Davies-Bouldin Score:\",DB_10)\n",
    "print(\" Calinski-Harabasz Score:\",CH_10)\n",
    "print(\" Number of clusters:\",n_clusters_10)"
   ]
  },
  {
   "cell_type": "code",
   "execution_count": 32,
   "metadata": {},
   "outputs": [
    {
     "name": "stdout",
     "output_type": "stream",
     "text": [
      " Guassian Mixture Models (n_components=5, covariance_type='diag')\n",
      "\n",
      "\n",
      " Silhoutte Score: 0.205\n",
      " Davies-Bouldin Score: 1.49\n",
      " Calinski-Harabasz Score: 1955.572\n",
      " Number of clusters: 5\n"
     ]
    }
   ],
   "source": [
    "# Guassian Mixture Models (n_components=5, covariance_type='diag')\n",
    "gmm11 = GaussianMixture(n_components=5, covariance_type='diag', random_state=42)\n",
    "gmm11.fit(X_train)\n",
    "labels11 = gmm11.predict(X_train)\n",
    "\n",
    "labels_unique = np.unique(labels11)\n",
    "n_clusters_11 = len(labels_unique)\n",
    "Si_11=metrics.silhouette_score(X_train, labels11, metric='euclidean').round(3)\n",
    "DB_11=metrics.davies_bouldin_score(X_train, labels11).round(3)\n",
    "CH_11=metrics.calinski_harabasz_score(X_train, labels11).round(3)\n",
    "\n",
    "print(\" Guassian Mixture Models (n_components=5, covariance_type='diag')\")\n",
    "print('\\n')\n",
    "print(\" Silhoutte Score:\",Si_11)\n",
    "print(\" Davies-Bouldin Score:\",DB_11)\n",
    "print(\" Calinski-Harabasz Score:\",CH_11)\n",
    "print(\" Number of clusters:\",n_clusters_11)"
   ]
  },
  {
   "cell_type": "code",
   "execution_count": 33,
   "metadata": {},
   "outputs": [
    {
     "name": "stdout",
     "output_type": "stream",
     "text": [
      " Guassian Mixture Models (n_components=6, covariance_type='full')\n",
      "\n",
      "\n",
      " Silhoutte Score: 0.09\n",
      " Davies-Bouldin Score: 2.635\n",
      " Calinski-Harabasz Score: 717.453\n",
      " Number of clusters: 6\n"
     ]
    }
   ],
   "source": [
    "# Guassian Mixture Models (n_components=6, covariance_type='full')\n",
    "gmm12 = GaussianMixture(n_components=6, covariance_type='full', random_state=42)\n",
    "gmm12.fit(X_train)\n",
    "labels12 = gmm12.predict(X_train)\n",
    "\n",
    "labels_unique = np.unique(labels12)\n",
    "n_clusters_12 = len(labels_unique)\n",
    "Si_12=metrics.silhouette_score(X_train, labels12, metric='euclidean').round(3)\n",
    "DB_12=metrics.davies_bouldin_score(X_train, labels12).round(3)\n",
    "CH_12=metrics.calinski_harabasz_score(X_train, labels12).round(3)\n",
    "\n",
    "print(\" Guassian Mixture Models (n_components=6, covariance_type='full')\")\n",
    "print('\\n')\n",
    "print(\" Silhoutte Score:\",Si_12)\n",
    "print(\" Davies-Bouldin Score:\",DB_12)\n",
    "print(\" Calinski-Harabasz Score:\",CH_12)\n",
    "print(\" Number of clusters:\",n_clusters_12)"
   ]
  },
  {
   "cell_type": "code",
   "execution_count": 34,
   "metadata": {},
   "outputs": [
    {
     "name": "stdout",
     "output_type": "stream",
     "text": [
      " Guassian Mixture Models (n_components=6, covariance_type='diag')\n",
      "\n",
      "\n",
      " Silhoutte Score: 0.234\n",
      " Davies-Bouldin Score: 1.226\n",
      " Calinski-Harabasz Score: 2028.196\n",
      " Number of clusters: 6\n"
     ]
    }
   ],
   "source": [
    "# Guassian Mixture Models (n_components=6, covariance_type='diag')\n",
    "gmm13 = GaussianMixture(n_components=6, covariance_type='diag', random_state=42)\n",
    "gmm13.fit(X_train)\n",
    "labels13 = gmm13.predict(X_train)\n",
    "\n",
    "labels_unique = np.unique(labels13)\n",
    "n_clusters_13 = len(labels_unique)\n",
    "Si_13=metrics.silhouette_score(X_train, labels13, metric='euclidean').round(3)\n",
    "DB_13=metrics.davies_bouldin_score(X_train, labels13).round(3)\n",
    "CH_13=metrics.calinski_harabasz_score(X_train, labels13).round(3)\n",
    "\n",
    "print(\" Guassian Mixture Models (n_components=6, covariance_type='diag')\")\n",
    "print('\\n')\n",
    "print(\" Silhoutte Score:\",Si_13)\n",
    "print(\" Davies-Bouldin Score:\",DB_13)\n",
    "print(\" Calinski-Harabasz Score:\",CH_13)\n",
    "print(\" Number of clusters:\",n_clusters_13)"
   ]
  },
  {
   "cell_type": "code",
   "execution_count": 35,
   "metadata": {},
   "outputs": [
    {
     "name": "stdout",
     "output_type": "stream",
     "text": [
      " Guassian Mixture Models (n_components=6, covariance_type='tied')\n",
      "\n",
      "\n",
      " Silhoutte Score: 0.176\n",
      " Davies-Bouldin Score: 1.318\n",
      " Calinski-Harabasz Score: 893.95\n",
      " Number of clusters: 6\n"
     ]
    }
   ],
   "source": [
    "# Guassian Mixture Models (n_components=6, covariance_type='tied')\n",
    "gmm14 = GaussianMixture(n_components=6, covariance_type='tied', random_state=42)\n",
    "gmm14.fit(X_train)\n",
    "labels14 = gmm14.predict(X_train)\n",
    "\n",
    "labels_unique = np.unique(labels14)\n",
    "n_clusters_14 = len(labels_unique)\n",
    "Si_14=metrics.silhouette_score(X_train, labels14, metric='euclidean').round(3)\n",
    "DB_14=metrics.davies_bouldin_score(X_train, labels14).round(3)\n",
    "CH_14=metrics.calinski_harabasz_score(X_train, labels14).round(3)\n",
    "\n",
    "print(\" Guassian Mixture Models (n_components=6, covariance_type='tied')\")\n",
    "print('\\n')\n",
    "print(\" Silhoutte Score:\",Si_14)\n",
    "print(\" Davies-Bouldin Score:\",DB_14)\n",
    "print(\" Calinski-Harabasz Score:\",CH_14)\n",
    "print(\" Number of clusters:\",n_clusters_14)"
   ]
  },
  {
   "cell_type": "code",
   "execution_count": 36,
   "metadata": {},
   "outputs": [
    {
     "name": "stdout",
     "output_type": "stream",
     "text": [
      " Guassian Mixture Models (n_components=7, covariance_type='tied')\n",
      "\n",
      "\n",
      " Silhoutte Score: 0.116\n",
      " Davies-Bouldin Score: 1.55\n",
      " Calinski-Harabasz Score: 992.184\n",
      " Number of clusters: 7\n"
     ]
    }
   ],
   "source": [
    "# Guassian Mixture Models (n_components=7, covariance_type='tied')\n",
    "gmm15 = GaussianMixture(n_components=7, covariance_type='tied', random_state=42)\n",
    "gmm15.fit(X_train)\n",
    "labels15 = gmm15.predict(X_train)\n",
    "\n",
    "labels_unique = np.unique(labels15)\n",
    "n_clusters_15 = len(labels_unique)\n",
    "Si_15=metrics.silhouette_score(X_train, labels15, metric='euclidean').round(3)\n",
    "DB_15=metrics.davies_bouldin_score(X_train, labels15).round(3)\n",
    "CH_15=metrics.calinski_harabasz_score(X_train, labels15).round(3)\n",
    "\n",
    "print(\" Guassian Mixture Models (n_components=7, covariance_type='tied')\")\n",
    "print('\\n')\n",
    "print(\" Silhoutte Score:\",Si_15)\n",
    "print(\" Davies-Bouldin Score:\",DB_15)\n",
    "print(\" Calinski-Harabasz Score:\",CH_15)\n",
    "print(\" Number of clusters:\",n_clusters_15)"
   ]
  },
  {
   "cell_type": "code",
   "execution_count": 37,
   "metadata": {},
   "outputs": [
    {
     "name": "stdout",
     "output_type": "stream",
     "text": [
      "============================== Gaussian Mixture Model Scores With Different Hyper Parameters ==============================\n",
      "\n",
      "\n",
      "Random State No.: 45\n"
     ]
    },
    {
     "data": {
      "text/html": [
       "<div>\n",
       "<style scoped>\n",
       "    .dataframe tbody tr th:only-of-type {\n",
       "        vertical-align: middle;\n",
       "    }\n",
       "\n",
       "    .dataframe tbody tr th {\n",
       "        vertical-align: top;\n",
       "    }\n",
       "\n",
       "    .dataframe thead th {\n",
       "        text-align: right;\n",
       "    }\n",
       "</style>\n",
       "<table border=\"1\" class=\"dataframe\">\n",
       "  <thead>\n",
       "    <tr style=\"text-align: right;\">\n",
       "      <th></th>\n",
       "      <th>n_components</th>\n",
       "      <th>covariance_type</th>\n",
       "      <th>No. of Clusters</th>\n",
       "      <th>Silhoutte Score</th>\n",
       "      <th>Davies-Bouldin Score</th>\n",
       "      <th>Calinski-Harabasz Score</th>\n",
       "    </tr>\n",
       "  </thead>\n",
       "  <tbody>\n",
       "    <tr>\n",
       "      <th>0</th>\n",
       "      <td>2</td>\n",
       "      <td>full</td>\n",
       "      <td>2</td>\n",
       "      <td>0.266</td>\n",
       "      <td>1.270</td>\n",
       "      <td>1865.101</td>\n",
       "    </tr>\n",
       "    <tr>\n",
       "      <th>1</th>\n",
       "      <td>2</td>\n",
       "      <td>tied</td>\n",
       "      <td>2</td>\n",
       "      <td>0.321</td>\n",
       "      <td>1.172</td>\n",
       "      <td>1798.862</td>\n",
       "    </tr>\n",
       "    <tr>\n",
       "      <th>2</th>\n",
       "      <td>2</td>\n",
       "      <td>diagonal</td>\n",
       "      <td>2</td>\n",
       "      <td>0.394</td>\n",
       "      <td>0.952</td>\n",
       "      <td>3831.583</td>\n",
       "    </tr>\n",
       "    <tr>\n",
       "      <th>3</th>\n",
       "      <td>3</td>\n",
       "      <td>full</td>\n",
       "      <td>3</td>\n",
       "      <td>0.027</td>\n",
       "      <td>2.240</td>\n",
       "      <td>703.067</td>\n",
       "    </tr>\n",
       "    <tr>\n",
       "      <th>4</th>\n",
       "      <td>3</td>\n",
       "      <td>tied</td>\n",
       "      <td>3</td>\n",
       "      <td>0.213</td>\n",
       "      <td>1.454</td>\n",
       "      <td>1456.752</td>\n",
       "    </tr>\n",
       "    <tr>\n",
       "      <th>5</th>\n",
       "      <td>3</td>\n",
       "      <td>diagonal</td>\n",
       "      <td>3</td>\n",
       "      <td>0.287</td>\n",
       "      <td>1.138</td>\n",
       "      <td>2939.585</td>\n",
       "    </tr>\n",
       "    <tr>\n",
       "      <th>6</th>\n",
       "      <td>4</td>\n",
       "      <td>full</td>\n",
       "      <td>4</td>\n",
       "      <td>0.040</td>\n",
       "      <td>2.187</td>\n",
       "      <td>788.728</td>\n",
       "    </tr>\n",
       "    <tr>\n",
       "      <th>7</th>\n",
       "      <td>4</td>\n",
       "      <td>tied</td>\n",
       "      <td>4</td>\n",
       "      <td>0.290</td>\n",
       "      <td>1.054</td>\n",
       "      <td>2260.788</td>\n",
       "    </tr>\n",
       "    <tr>\n",
       "      <th>8</th>\n",
       "      <td>4</td>\n",
       "      <td>diagonal</td>\n",
       "      <td>4</td>\n",
       "      <td>0.290</td>\n",
       "      <td>1.054</td>\n",
       "      <td>2260.788</td>\n",
       "    </tr>\n",
       "    <tr>\n",
       "      <th>9</th>\n",
       "      <td>5</td>\n",
       "      <td>full</td>\n",
       "      <td>5</td>\n",
       "      <td>0.092</td>\n",
       "      <td>2.406</td>\n",
       "      <td>907.477</td>\n",
       "    </tr>\n",
       "    <tr>\n",
       "      <th>10</th>\n",
       "      <td>5</td>\n",
       "      <td>tied</td>\n",
       "      <td>5</td>\n",
       "      <td>0.209</td>\n",
       "      <td>1.397</td>\n",
       "      <td>1140.560</td>\n",
       "    </tr>\n",
       "    <tr>\n",
       "      <th>11</th>\n",
       "      <td>5</td>\n",
       "      <td>diagonal</td>\n",
       "      <td>5</td>\n",
       "      <td>0.205</td>\n",
       "      <td>1.490</td>\n",
       "      <td>1955.572</td>\n",
       "    </tr>\n",
       "    <tr>\n",
       "      <th>12</th>\n",
       "      <td>6</td>\n",
       "      <td>full</td>\n",
       "      <td>6</td>\n",
       "      <td>0.090</td>\n",
       "      <td>2.635</td>\n",
       "      <td>717.453</td>\n",
       "    </tr>\n",
       "    <tr>\n",
       "      <th>13</th>\n",
       "      <td>6</td>\n",
       "      <td>diagonal</td>\n",
       "      <td>6</td>\n",
       "      <td>0.234</td>\n",
       "      <td>1.226</td>\n",
       "      <td>2028.196</td>\n",
       "    </tr>\n",
       "    <tr>\n",
       "      <th>14</th>\n",
       "      <td>6</td>\n",
       "      <td>tied</td>\n",
       "      <td>6</td>\n",
       "      <td>0.176</td>\n",
       "      <td>1.318</td>\n",
       "      <td>893.950</td>\n",
       "    </tr>\n",
       "    <tr>\n",
       "      <th>15</th>\n",
       "      <td>7</td>\n",
       "      <td>tied</td>\n",
       "      <td>7</td>\n",
       "      <td>0.116</td>\n",
       "      <td>1.550</td>\n",
       "      <td>992.184</td>\n",
       "    </tr>\n",
       "  </tbody>\n",
       "</table>\n",
       "</div>"
      ],
      "text/plain": [
       "   n_components covariance_type  No. of Clusters  Silhoutte Score  \\\n",
       "0             2            full                2            0.266   \n",
       "1             2            tied                2            0.321   \n",
       "2             2        diagonal                2            0.394   \n",
       "3             3            full                3            0.027   \n",
       "4             3            tied                3            0.213   \n",
       "5             3        diagonal                3            0.287   \n",
       "6             4            full                4            0.040   \n",
       "7             4            tied                4            0.290   \n",
       "8             4        diagonal                4            0.290   \n",
       "9             5            full                5            0.092   \n",
       "10            5            tied                5            0.209   \n",
       "11            5        diagonal                5            0.205   \n",
       "12            6            full                6            0.090   \n",
       "13            6        diagonal                6            0.234   \n",
       "14            6            tied                6            0.176   \n",
       "15            7            tied                7            0.116   \n",
       "\n",
       "    Davies-Bouldin Score  Calinski-Harabasz Score  \n",
       "0                  1.270                 1865.101  \n",
       "1                  1.172                 1798.862  \n",
       "2                  0.952                 3831.583  \n",
       "3                  2.240                  703.067  \n",
       "4                  1.454                 1456.752  \n",
       "5                  1.138                 2939.585  \n",
       "6                  2.187                  788.728  \n",
       "7                  1.054                 2260.788  \n",
       "8                  1.054                 2260.788  \n",
       "9                  2.406                  907.477  \n",
       "10                 1.397                 1140.560  \n",
       "11                 1.490                 1955.572  \n",
       "12                 2.635                  717.453  \n",
       "13                 1.226                 2028.196  \n",
       "14                 1.318                  893.950  \n",
       "15                 1.550                  992.184  "
      ]
     },
     "execution_count": 37,
     "metadata": {},
     "output_type": "execute_result"
    }
   ],
   "source": [
    "table = pd.DataFrame({'n_components': ['2','2','2','3','3','3','4','4','4','5','5','5','6','6','6','7'], \n",
    "                      'covariance_type': ['full','tied','diagonal','full','tied','diagonal','full','tied','diagonal',\n",
    "                                          'full','tied','diagonal','full','diagonal','tied','tied'], \n",
    "                      'No. of Clusters': [n_clusters_1,n_clusters_2,n_clusters_3,n_clusters_,n_clusters_4,n_clusters_5,\n",
    "                                          n_clusters_6,n_clusters_7,n_clusters_8,n_clusters_9,n_clusters_10,n_clusters_11,\n",
    "                                         n_clusters_12,n_clusters_13,n_clusters_14,n_clusters_15],\n",
    "                      'Silhoutte Score': [Si_1,Si_2,Si_3,Si,Si_4,Si_5,Si_6,Si_7,Si_8,Si_9,Si_10,Si_11,Si_12,Si_13,Si_14,Si_15],\n",
    "                      'Davies-Bouldin Score': [DB_1,DB_2,DB_3,DB,DB_4,DB_5,DB_6,DB_7,DB_8,DB_9,DB_10,DB_11,DB_12,DB_13,DB_14,\n",
    "                                               DB_15],\n",
    "                      'Calinski-Harabasz Score': [CH_1,CH_2,CH_3,CH,CH_4,CH_5,CH_6,CH_7,CH_8,CH_9,CH_10,CH_11,CH_12,CH_13,CH_14,\n",
    "                                               CH_15]})\n",
    "\n",
    "\n",
    "print('============================== Gaussian Mixture Model Scores With Different Hyper Parameters ==============================')\n",
    "print('\\n')\n",
    "print(\"Random State No.:\",45)\n",
    "table"
   ]
  },
  {
   "cell_type": "markdown",
   "metadata": {},
   "source": [
    "- The table shows validation scores for different GMM hyper parameters\n",
    "- It is observed that GMM hyper parameters with n_components = 2 and covariance_type = \"diagonal\" yields best clustering results\n",
    "- There can be many other combinations of hyper parameters that couldn't be included in the table."
   ]
  },
  {
   "cell_type": "markdown",
   "metadata": {},
   "source": [
    "##### GMM Cluster Visualization with best hyper parameter"
   ]
  },
  {
   "cell_type": "code",
   "execution_count": 38,
   "metadata": {},
   "outputs": [
    {
     "name": "stdout",
     "output_type": "stream",
     "text": [
      "Gaussian Mixture Model with best hyper parameter\n",
      "\n",
      "\n",
      "n_components: 2\n",
      "covariance_type: diagonal\n",
      "Random State No.: 45\n",
      "Number of clusters: 2\n"
     ]
    },
    {
     "data": {
      "image/png": "[encoded data removed]",
      "text/plain": [
       "<Figure size 1200x800 with 1 Axes>"
      ]
     },
     "metadata": {},
     "output_type": "display_data"
    }
   ],
   "source": [
    "fig = plt.figure(num=None, figsize=(15, 10), dpi=80, facecolor='w', edgecolor='k')\n",
    "ax = plt.axes(projection=\"3d\")\n",
    "\n",
    "ax.scatter3D(df_cluster['Recency'],df_cluster['Frequency'],df_cluster['Monetary'],c=labels3, cmap='rainbow')\n",
    "\n",
    "xLabel = ax.set_xlabel('Recency', linespacing=3.2)\n",
    "yLabel = ax.set_ylabel('Frequency', linespacing=3.1)\n",
    "zLabel = ax.set_zlabel('Monetary', linespacing=3.4)\n",
    "\n",
    "print(\"Gaussian Mixture Model with best hyper parameter\")\n",
    "print('\\n')\n",
    "print(\"n_components:\",2)\n",
    "print(\"covariance_type: diagonal\")\n",
    "print(\"Random State No.:\",45)\n",
    "print(\"Number of clusters:\",n_clusters_3)"
   ]
  },
  {
   "cell_type": "code",
   "execution_count": 39,
   "metadata": {},
   "outputs": [
    {
     "data": {
      "text/html": [
       "<div>\n",
       "<style scoped>\n",
       "    .dataframe tbody tr th:only-of-type {\n",
       "        vertical-align: middle;\n",
       "    }\n",
       "\n",
       "    .dataframe tbody tr th {\n",
       "        vertical-align: top;\n",
       "    }\n",
       "\n",
       "    .dataframe thead th {\n",
       "        text-align: right;\n",
       "    }\n",
       "</style>\n",
       "<table border=\"1\" class=\"dataframe\">\n",
       "  <thead>\n",
       "    <tr style=\"text-align: right;\">\n",
       "      <th></th>\n",
       "      <th>Recency</th>\n",
       "      <th>Frequency</th>\n",
       "      <th>Monetary</th>\n",
       "    </tr>\n",
       "    <tr>\n",
       "      <th>Cluster</th>\n",
       "      <th></th>\n",
       "      <th></th>\n",
       "      <th></th>\n",
       "    </tr>\n",
       "  </thead>\n",
       "  <tbody>\n",
       "    <tr>\n",
       "      <th>0</th>\n",
       "      <td>137.8</td>\n",
       "      <td>24.6</td>\n",
       "      <td>436.5</td>\n",
       "    </tr>\n",
       "    <tr>\n",
       "      <th>1</th>\n",
       "      <td>34.2</td>\n",
       "      <td>178.2</td>\n",
       "      <td>4139.9</td>\n",
       "    </tr>\n",
       "  </tbody>\n",
       "</table>\n",
       "</div>"
      ],
      "text/plain": [
       "         Recency  Frequency  Monetary\n",
       "Cluster                              \n",
       "0          137.8       24.6     436.5\n",
       "1           34.2      178.2    4139.9"
      ]
     },
     "execution_count": 39,
     "metadata": {},
     "output_type": "execute_result"
    }
   ],
   "source": [
    "df_clustered_hac = df_cluster.assign(Cluster=labels3)\n",
    "grouped_hac1 = df_clustered_hac.groupby(['Cluster']).mean().round(1)\n",
    "grouped_hac1"
   ]
  },
  {
   "cell_type": "markdown",
   "metadata": {},
   "source": [
    "#### ii) Affinity Propagation Algorithm"
   ]
  },
  {
   "cell_type": "code",
   "execution_count": 40,
   "metadata": {},
   "outputs": [
    {
     "data": {
      "text/plain": [
       "AffinityPropagation(random_state=42)"
      ]
     },
     "execution_count": 40,
     "metadata": {},
     "output_type": "execute_result"
    }
   ],
   "source": [
    "from sklearn.cluster import AffinityPropagation\n",
    "from sklearn.metrics.pairwise import euclidean_distances\n",
    "af = AffinityPropagation(random_state=42)\n",
    "af.fit(cluster_scaled)"
   ]
  },
  {
   "cell_type": "code",
   "execution_count": 41,
   "metadata": {},
   "outputs": [
    {
     "name": "stdout",
     "output_type": "stream",
     "text": [
      " Affinity Model\n",
      " Silhoutte Score: 0.24\n",
      " Davies-Bouldin Score: 1.014\n",
      " Calinski-Harabasz Score: 1016.448\n",
      " Number of clusters: 105\n"
     ]
    },
    {
     "data": {
      "image/png": "[encoded data removed]",
      "text/plain": [
       "<Figure size 1200x800 with 1 Axes>"
      ]
     },
     "metadata": {},
     "output_type": "display_data"
    }
   ],
   "source": [
    "labels = af.predict(cluster_scaled)\n",
    "fig = plt.figure(num=None, figsize=(15, 10), dpi=80, facecolor='w', edgecolor='k')\n",
    "ax = plt.axes(projection=\"3d\")\n",
    "\n",
    "ax.scatter3D(df_cluster['Recency'],df_cluster['Frequency'],df_cluster['Monetary'],c=labels, cmap='rainbow')\n",
    "\n",
    "xLabel = ax.set_xlabel('Recency', linespacing=3.2)\n",
    "yLabel = ax.set_ylabel('Frequency', linespacing=3.1)\n",
    "zLabel = ax.set_zlabel('Monetary', linespacing=3.4)\n",
    "\n",
    "labels_unique = np.unique(labels)\n",
    "n_clusters_ap = len(labels_unique)\n",
    "Si_ap=metrics.silhouette_score(X_train, labels, metric='euclidean').round(3)\n",
    "DB_ap=metrics.davies_bouldin_score(X_train, labels).round(3)\n",
    "CH_ap=metrics.calinski_harabasz_score(X_train, labels).round(3)\n",
    "\n",
    "print(\" Affinity Model\")\n",
    "print(\" Silhoutte Score:\",Si_ap)\n",
    "print(\" Davies-Bouldin Score:\",DB_ap)\n",
    "print(\" Calinski-Harabasz Score:\",CH_ap)\n",
    "print(\" Number of clusters:\",n_clusters_ap)"
   ]
  },
  {
   "cell_type": "code",
   "execution_count": 42,
   "metadata": {},
   "outputs": [
    {
     "data": {
      "text/html": [
       "<div>\n",
       "<style scoped>\n",
       "    .dataframe tbody tr th:only-of-type {\n",
       "        vertical-align: middle;\n",
       "    }\n",
       "\n",
       "    .dataframe tbody tr th {\n",
       "        vertical-align: top;\n",
       "    }\n",
       "\n",
       "    .dataframe thead th {\n",
       "        text-align: right;\n",
       "    }\n",
       "</style>\n",
       "<table border=\"1\" class=\"dataframe\">\n",
       "  <thead>\n",
       "    <tr style=\"text-align: right;\">\n",
       "      <th></th>\n",
       "      <th>Recency</th>\n",
       "      <th>Frequency</th>\n",
       "      <th>Monetary</th>\n",
       "    </tr>\n",
       "    <tr>\n",
       "      <th>Cluster</th>\n",
       "      <th></th>\n",
       "      <th></th>\n",
       "      <th></th>\n",
       "    </tr>\n",
       "  </thead>\n",
       "  <tbody>\n",
       "    <tr>\n",
       "      <th>0</th>\n",
       "      <td>81.0</td>\n",
       "      <td>31.3</td>\n",
       "      <td>552.3</td>\n",
       "    </tr>\n",
       "    <tr>\n",
       "      <th>1</th>\n",
       "      <td>40.4</td>\n",
       "      <td>271.8</td>\n",
       "      <td>14153.8</td>\n",
       "    </tr>\n",
       "    <tr>\n",
       "      <th>2</th>\n",
       "      <td>289.0</td>\n",
       "      <td>9.4</td>\n",
       "      <td>157.6</td>\n",
       "    </tr>\n",
       "    <tr>\n",
       "      <th>3</th>\n",
       "      <td>9.5</td>\n",
       "      <td>12.7</td>\n",
       "      <td>260.1</td>\n",
       "    </tr>\n",
       "    <tr>\n",
       "      <th>4</th>\n",
       "      <td>4.7</td>\n",
       "      <td>584.0</td>\n",
       "      <td>11619.6</td>\n",
       "    </tr>\n",
       "    <tr>\n",
       "      <th>...</th>\n",
       "      <td>...</td>\n",
       "      <td>...</td>\n",
       "      <td>...</td>\n",
       "    </tr>\n",
       "    <tr>\n",
       "      <th>100</th>\n",
       "      <td>117.7</td>\n",
       "      <td>34.5</td>\n",
       "      <td>161.9</td>\n",
       "    </tr>\n",
       "    <tr>\n",
       "      <th>101</th>\n",
       "      <td>37.9</td>\n",
       "      <td>32.8</td>\n",
       "      <td>556.3</td>\n",
       "    </tr>\n",
       "    <tr>\n",
       "      <th>102</th>\n",
       "      <td>23.3</td>\n",
       "      <td>4.7</td>\n",
       "      <td>682.7</td>\n",
       "    </tr>\n",
       "    <tr>\n",
       "      <th>103</th>\n",
       "      <td>85.2</td>\n",
       "      <td>6.2</td>\n",
       "      <td>104.2</td>\n",
       "    </tr>\n",
       "    <tr>\n",
       "      <th>104</th>\n",
       "      <td>188.7</td>\n",
       "      <td>146.4</td>\n",
       "      <td>3038.7</td>\n",
       "    </tr>\n",
       "  </tbody>\n",
       "</table>\n",
       "<p>105 rows × 3 columns</p>\n",
       "</div>"
      ],
      "text/plain": [
       "         Recency  Frequency  Monetary\n",
       "Cluster                              \n",
       "0           81.0       31.3     552.3\n",
       "1           40.4      271.8   14153.8\n",
       "2          289.0        9.4     157.6\n",
       "3            9.5       12.7     260.1\n",
       "4            4.7      584.0   11619.6\n",
       "...          ...        ...       ...\n",
       "100        117.7       34.5     161.9\n",
       "101         37.9       32.8     556.3\n",
       "102         23.3        4.7     682.7\n",
       "103         85.2        6.2     104.2\n",
       "104        188.7      146.4    3038.7\n",
       "\n",
       "[105 rows x 3 columns]"
      ]
     },
     "execution_count": 42,
     "metadata": {},
     "output_type": "execute_result"
    }
   ],
   "source": [
    "df_clustered_hac = df_cluster.assign(Cluster=labels)\n",
    "grouped_hac = df_clustered_hac.groupby(['Cluster']).mean().round(1)\n",
    "grouped_hac"
   ]
  },
  {
   "cell_type": "markdown",
   "metadata": {},
   "source": [
    "#### AP algorithm with different hyper parameters"
   ]
  },
  {
   "cell_type": "code",
   "execution_count": 43,
   "metadata": {},
   "outputs": [
    {
     "name": "stdout",
     "output_type": "stream",
     "text": [
      " Affinity Propagation (preference=-10,random_state=42)\n",
      "\n",
      "\n",
      " Silhoutte Score: 0.24\n",
      " Davies-Bouldin Score: 1.022\n",
      " Calinski-Harabasz Score: 1132.878\n",
      " Number of clusters: 64\n"
     ]
    }
   ],
   "source": [
    "# Affinity Propagation (preference=-10,random_state=42)\n",
    "af1 = AffinityPropagation(preference=-10,random_state=42)\n",
    "af1.fit(cluster_scaled)\n",
    "labels1 = af1.predict(cluster_scaled)\n",
    "\n",
    "labels_unique = np.unique(labels1)\n",
    "n_clusters_ap1 = len(labels_unique)\n",
    "Si_ap1=metrics.silhouette_score(cluster_scaled, labels1, metric='euclidean').round(3)\n",
    "DB_ap1=metrics.davies_bouldin_score(cluster_scaled, labels1).round(3)\n",
    "CH_ap1=metrics.calinski_harabasz_score(cluster_scaled, labels1).round(3)\n",
    "\n",
    "print(\" Affinity Propagation (preference=-10,random_state=42)\")\n",
    "print('\\n')\n",
    "print(\" Silhoutte Score:\",Si_ap1)\n",
    "print(\" Davies-Bouldin Score:\",DB_ap1)\n",
    "print(\" Calinski-Harabasz Score:\",CH_ap1)\n",
    "print(\" Number of clusters:\",n_clusters_ap1)"
   ]
  },
  {
   "cell_type": "code",
   "execution_count": 44,
   "metadata": {},
   "outputs": [
    {
     "name": "stdout",
     "output_type": "stream",
     "text": [
      " Affinity Propagation (preference=-9.9,random_state=42)\n",
      "\n",
      "\n",
      " Silhoutte Score: 0.229\n",
      " Davies-Bouldin Score: 1.055\n",
      " Calinski-Harabasz Score: 1132.213\n",
      " Number of clusters: 62\n"
     ]
    }
   ],
   "source": [
    "# Affinity Propagation (preference=-9.9,random_state=42)\n",
    "af2 = AffinityPropagation(preference=-9.9,random_state=42)\n",
    "af2.fit(cluster_scaled)\n",
    "labels2 = af2.predict(cluster_scaled)\n",
    "\n",
    "labels_unique = np.unique(labels2)\n",
    "n_clusters_ap2 = len(labels_unique)\n",
    "Si_ap2=metrics.silhouette_score(cluster_scaled, labels2, metric='euclidean').round(3)\n",
    "DB_ap2=metrics.davies_bouldin_score(cluster_scaled, labels2).round(3)\n",
    "CH_ap2=metrics.calinski_harabasz_score(cluster_scaled, labels2).round(3)\n",
    "\n",
    "print(\" Affinity Propagation (preference=-9.9,random_state=42)\")\n",
    "print('\\n')\n",
    "print(\" Silhoutte Score:\",Si_ap2)\n",
    "print(\" Davies-Bouldin Score:\",DB_ap2)\n",
    "print(\" Calinski-Harabasz Score:\",CH_ap2)\n",
    "print(\" Number of clusters:\",n_clusters_ap2)"
   ]
  },
  {
   "cell_type": "markdown",
   "metadata": {},
   "source": [
    "Next I will set a list of preferences based on euclidean distances and use them on affinity propagation algorithm."
   ]
  },
  {
   "cell_type": "code",
   "execution_count": 45,
   "metadata": {},
   "outputs": [
    {
     "data": {
      "text/plain": [
       "11.331504499111663"
      ]
     },
     "execution_count": 45,
     "metadata": {},
     "output_type": "execute_result"
    }
   ],
   "source": [
    "preference=euclidean_distances(cluster_scaled, cluster_scaled).max()\n",
    "preference"
   ]
  },
  {
   "cell_type": "code",
   "execution_count": 46,
   "metadata": {},
   "outputs": [
    {
     "data": {
      "text/plain": [
       "2.161363050750034"
      ]
     },
     "execution_count": 46,
     "metadata": {},
     "output_type": "execute_result"
    }
   ],
   "source": [
    "preference1=euclidean_distances(cluster_scaled, cluster_scaled).mean()\n",
    "preference1"
   ]
  },
  {
   "cell_type": "code",
   "execution_count": 47,
   "metadata": {},
   "outputs": [
    {
     "data": {
      "text/plain": [
       "4.671490237147495"
      ]
     },
     "execution_count": 47,
     "metadata": {},
     "output_type": "execute_result"
    }
   ],
   "source": [
    "preference2=euclidean_distances(cluster_scaled, cluster_scaled).mean()**2\n",
    "preference2"
   ]
  },
  {
   "cell_type": "code",
   "execution_count": 48,
   "metadata": {},
   "outputs": [
    {
     "data": {
      "text/plain": [
       "5.6657522495558315"
      ]
     },
     "execution_count": 48,
     "metadata": {},
     "output_type": "execute_result"
    }
   ],
   "source": [
    "preference3=preference/2\n",
    "preference3"
   ]
  },
  {
   "cell_type": "code",
   "execution_count": 49,
   "metadata": {},
   "outputs": [
    {
     "data": {
      "text/plain": [
       "2.8328761247779157"
      ]
     },
     "execution_count": 49,
     "metadata": {},
     "output_type": "execute_result"
    }
   ],
   "source": [
    "preference4=preference3/2\n",
    "preference4"
   ]
  },
  {
   "cell_type": "code",
   "execution_count": 50,
   "metadata": {},
   "outputs": [
    {
     "data": {
      "text/plain": [
       "1.4164380623889579"
      ]
     },
     "execution_count": 50,
     "metadata": {},
     "output_type": "execute_result"
    }
   ],
   "source": [
    "preference5=preference4/2\n",
    "preference5"
   ]
  },
  {
   "cell_type": "code",
   "execution_count": 51,
   "metadata": {},
   "outputs": [
    {
     "name": "stdout",
     "output_type": "stream",
     "text": [
      " Affinity Propagation (preference=-2.16,random_state=42)\n",
      "\n",
      "\n",
      " Silhoutte Score: 0.242\n",
      " Davies-Bouldin Score: 0.983\n",
      " Calinski-Harabasz Score: 940.442\n",
      " Number of clusters: 152\n"
     ]
    }
   ],
   "source": [
    "# Affinity Propagation (preference=-2.16,random_state=42)\n",
    "af3 = AffinityPropagation(preference=-preference1,random_state=42)\n",
    "af3.fit(cluster_scaled)\n",
    "labels3 = af3.predict(cluster_scaled)\n",
    "\n",
    "labels_unique = np.unique(labels3)\n",
    "n_clusters_ap3 = len(labels_unique)\n",
    "Si_ap3=metrics.silhouette_score(cluster_scaled, labels3, metric='euclidean').round(3)\n",
    "DB_ap3=metrics.davies_bouldin_score(cluster_scaled, labels3).round(3)\n",
    "CH_ap3=metrics.calinski_harabasz_score(cluster_scaled, labels3).round(3)\n",
    "\n",
    "print(\" Affinity Propagation (preference=-2.16,random_state=42)\")\n",
    "print('\\n')\n",
    "print(\" Silhoutte Score:\",Si_ap3)\n",
    "print(\" Davies-Bouldin Score:\",DB_ap3)\n",
    "print(\" Calinski-Harabasz Score:\",CH_ap3)\n",
    "print(\" Number of clusters:\",n_clusters_ap3)"
   ]
  },
  {
   "cell_type": "code",
   "execution_count": 52,
   "metadata": {},
   "outputs": [
    {
     "name": "stdout",
     "output_type": "stream",
     "text": [
      " Affinity Propagation (preference=-4.67,random_state=42)\n",
      "\n",
      "\n",
      " Silhoutte Score: 0.243\n",
      " Davies-Bouldin Score: 1.012\n",
      " Calinski-Harabasz Score: 1037.782\n",
      " Number of clusters: 98\n"
     ]
    }
   ],
   "source": [
    "# Affinity Propagation (preference=-4.67,random_state=42)\n",
    "af4 = AffinityPropagation(preference=-preference2,random_state=42)\n",
    "af4.fit(cluster_scaled)\n",
    "labels4 = af4.predict(cluster_scaled)\n",
    "\n",
    "labels_unique = np.unique(labels4)\n",
    "n_clusters_ap4 = len(labels_unique)\n",
    "Si_ap4=metrics.silhouette_score(cluster_scaled, labels4, metric='euclidean').round(3)\n",
    "DB_ap4=metrics.davies_bouldin_score(cluster_scaled, labels4).round(3)\n",
    "CH_ap4=metrics.calinski_harabasz_score(cluster_scaled, labels4).round(3)\n",
    "\n",
    "print(\" Affinity Propagation (preference=-4.67,random_state=42)\")\n",
    "print('\\n')\n",
    "print(\" Silhoutte Score:\",Si_ap4)\n",
    "print(\" Davies-Bouldin Score:\",DB_ap4)\n",
    "print(\" Calinski-Harabasz Score:\",CH_ap4)\n",
    "print(\" Number of clusters:\",n_clusters_ap4)"
   ]
  },
  {
   "cell_type": "code",
   "execution_count": 53,
   "metadata": {},
   "outputs": [
    {
     "name": "stdout",
     "output_type": "stream",
     "text": [
      " Affinity Propagation (preference=-5.67,random_state=42)\n",
      "\n",
      "\n",
      " Silhoutte Score: 0.239\n",
      " Davies-Bouldin Score: 1.001\n",
      " Calinski-Harabasz Score: 1045.919\n",
      " Number of clusters: 91\n"
     ]
    }
   ],
   "source": [
    "# Affinity Propagation (preference=-5.67,random_state=42)\n",
    "af5 = AffinityPropagation(preference=-preference3,random_state=42)\n",
    "af5.fit(cluster_scaled)\n",
    "labels5 = af5.predict(cluster_scaled)\n",
    "\n",
    "labels_unique = np.unique(labels5)\n",
    "n_clusters_ap5 = len(labels_unique)\n",
    "Si_ap5=metrics.silhouette_score(cluster_scaled, labels5, metric='euclidean').round(3)\n",
    "DB_ap5=metrics.davies_bouldin_score(cluster_scaled, labels5).round(3)\n",
    "CH_ap5=metrics.calinski_harabasz_score(cluster_scaled, labels5).round(3)\n",
    "\n",
    "print(\" Affinity Propagation (preference=-5.67,random_state=42)\")\n",
    "print('\\n')\n",
    "print(\" Silhoutte Score:\",Si_ap5)\n",
    "print(\" Davies-Bouldin Score:\",DB_ap5)\n",
    "print(\" Calinski-Harabasz Score:\",CH_ap5)\n",
    "print(\" Number of clusters:\",n_clusters_ap5)"
   ]
  },
  {
   "cell_type": "code",
   "execution_count": 54,
   "metadata": {},
   "outputs": [
    {
     "name": "stdout",
     "output_type": "stream",
     "text": [
      " Affinity Propagation (preference=-2.83,random_state=42)\n",
      "\n",
      "\n",
      " Silhoutte Score: 0.241\n",
      " Davies-Bouldin Score: 1.002\n",
      " Calinski-Harabasz Score: 969.952\n",
      " Number of clusters: 130\n"
     ]
    }
   ],
   "source": [
    "# Affinity Propagation (preference=-2.83,random_state=42)\n",
    "af6 = AffinityPropagation(preference=-preference4,random_state=42)\n",
    "af6.fit(cluster_scaled)\n",
    "labels6 = af6.predict(cluster_scaled)\n",
    "\n",
    "labels_unique = np.unique(labels6)\n",
    "n_clusters_ap6 = len(labels_unique)\n",
    "Si_ap6=metrics.silhouette_score(cluster_scaled, labels6, metric='euclidean').round(3)\n",
    "DB_ap6=metrics.davies_bouldin_score(cluster_scaled, labels6).round(3)\n",
    "CH_ap6=metrics.calinski_harabasz_score(cluster_scaled, labels6).round(3)\n",
    "\n",
    "print(\" Affinity Propagation (preference=-2.83,random_state=42)\")\n",
    "print('\\n')\n",
    "print(\" Silhoutte Score:\",Si_ap6)\n",
    "print(\" Davies-Bouldin Score:\",DB_ap6)\n",
    "print(\" Calinski-Harabasz Score:\",CH_ap6)\n",
    "print(\" Number of clusters:\",n_clusters_ap6)"
   ]
  },
  {
   "cell_type": "code",
   "execution_count": 55,
   "metadata": {},
   "outputs": [
    {
     "name": "stdout",
     "output_type": "stream",
     "text": [
      " Affinity Propagation (preference=-1.42,random_state=42)\n",
      "\n",
      "\n",
      " Silhoutte Score: 0.245\n",
      " Davies-Bouldin Score: 0.977\n",
      " Calinski-Harabasz Score: 896.36\n",
      " Number of clusters: 197\n"
     ]
    }
   ],
   "source": [
    "# Affinity Propagation (preference=-1.42,random_state=42)\n",
    "af7 = AffinityPropagation(preference=-preference5,random_state=42)\n",
    "af7.fit(cluster_scaled)\n",
    "labels7 = af7.predict(cluster_scaled)\n",
    "\n",
    "labels_unique = np.unique(labels7)\n",
    "n_clusters_ap7 = len(labels_unique)\n",
    "Si_ap7=metrics.silhouette_score(cluster_scaled, labels7, metric='euclidean').round(3)\n",
    "DB_ap7=metrics.davies_bouldin_score(cluster_scaled, labels7).round(3)\n",
    "CH_ap7=metrics.calinski_harabasz_score(cluster_scaled, labels7).round(3)\n",
    "\n",
    "print(\" Affinity Propagation (preference=-1.42,random_state=42)\")\n",
    "print('\\n')\n",
    "print(\" Silhoutte Score:\",Si_ap7)\n",
    "print(\" Davies-Bouldin Score:\",DB_ap7)\n",
    "print(\" Calinski-Harabasz Score:\",CH_ap7)\n",
    "print(\" Number of clusters:\",n_clusters_ap7)"
   ]
  },
  {
   "cell_type": "code",
   "execution_count": 56,
   "metadata": {},
   "outputs": [
    {
     "name": "stdout",
     "output_type": "stream",
     "text": [
      "============================== Affinity Propagation Scores With Different Hyper Parameters ==============================\n",
      "\n",
      "\n",
      "damping: 0.5\n",
      "Maximum number of iterations: 200\n",
      "Convergence Iteration No.: 15\n",
      "Affinity: Euclidean\n",
      "Random State No.: 45\n"
     ]
    },
    {
     "data": {
      "text/html": [
       "<div>\n",
       "<style scoped>\n",
       "    .dataframe tbody tr th:only-of-type {\n",
       "        vertical-align: middle;\n",
       "    }\n",
       "\n",
       "    .dataframe tbody tr th {\n",
       "        vertical-align: top;\n",
       "    }\n",
       "\n",
       "    .dataframe thead th {\n",
       "        text-align: right;\n",
       "    }\n",
       "</style>\n",
       "<table border=\"1\" class=\"dataframe\">\n",
       "  <thead>\n",
       "    <tr style=\"text-align: right;\">\n",
       "      <th></th>\n",
       "      <th>preference</th>\n",
       "      <th>No. of Clusters</th>\n",
       "      <th>Silhoutte Score</th>\n",
       "      <th>Davies-Bouldin Score</th>\n",
       "      <th>Calinski-Harabasz Score</th>\n",
       "    </tr>\n",
       "  </thead>\n",
       "  <tbody>\n",
       "    <tr>\n",
       "      <th>0</th>\n",
       "      <td>None</td>\n",
       "      <td>105</td>\n",
       "      <td>0.240</td>\n",
       "      <td>1.014</td>\n",
       "      <td>1016.448</td>\n",
       "    </tr>\n",
       "    <tr>\n",
       "      <th>1</th>\n",
       "      <td>-10</td>\n",
       "      <td>64</td>\n",
       "      <td>0.240</td>\n",
       "      <td>1.022</td>\n",
       "      <td>1132.878</td>\n",
       "    </tr>\n",
       "    <tr>\n",
       "      <th>2</th>\n",
       "      <td>-9.9</td>\n",
       "      <td>62</td>\n",
       "      <td>0.229</td>\n",
       "      <td>1.055</td>\n",
       "      <td>1132.213</td>\n",
       "    </tr>\n",
       "    <tr>\n",
       "      <th>3</th>\n",
       "      <td>-2.16</td>\n",
       "      <td>152</td>\n",
       "      <td>0.242</td>\n",
       "      <td>0.983</td>\n",
       "      <td>940.442</td>\n",
       "    </tr>\n",
       "    <tr>\n",
       "      <th>4</th>\n",
       "      <td>-4.67</td>\n",
       "      <td>98</td>\n",
       "      <td>0.243</td>\n",
       "      <td>1.012</td>\n",
       "      <td>1037.782</td>\n",
       "    </tr>\n",
       "    <tr>\n",
       "      <th>5</th>\n",
       "      <td>-5.67</td>\n",
       "      <td>91</td>\n",
       "      <td>0.239</td>\n",
       "      <td>1.001</td>\n",
       "      <td>1045.919</td>\n",
       "    </tr>\n",
       "    <tr>\n",
       "      <th>6</th>\n",
       "      <td>-2.83</td>\n",
       "      <td>130</td>\n",
       "      <td>0.241</td>\n",
       "      <td>1.002</td>\n",
       "      <td>969.952</td>\n",
       "    </tr>\n",
       "    <tr>\n",
       "      <th>7</th>\n",
       "      <td>-1.42</td>\n",
       "      <td>197</td>\n",
       "      <td>0.245</td>\n",
       "      <td>0.977</td>\n",
       "      <td>896.360</td>\n",
       "    </tr>\n",
       "  </tbody>\n",
       "</table>\n",
       "</div>"
      ],
      "text/plain": [
       "  preference  No. of Clusters  Silhoutte Score  Davies-Bouldin Score  \\\n",
       "0       None              105            0.240                 1.014   \n",
       "1        -10               64            0.240                 1.022   \n",
       "2       -9.9               62            0.229                 1.055   \n",
       "3      -2.16              152            0.242                 0.983   \n",
       "4      -4.67               98            0.243                 1.012   \n",
       "5      -5.67               91            0.239                 1.001   \n",
       "6      -2.83              130            0.241                 1.002   \n",
       "7      -1.42              197            0.245                 0.977   \n",
       "\n",
       "   Calinski-Harabasz Score  \n",
       "0                 1016.448  \n",
       "1                 1132.878  \n",
       "2                 1132.213  \n",
       "3                  940.442  \n",
       "4                 1037.782  \n",
       "5                 1045.919  \n",
       "6                  969.952  \n",
       "7                  896.360  "
      ]
     },
     "execution_count": 56,
     "metadata": {},
     "output_type": "execute_result"
    }
   ],
   "source": [
    "table2 = pd.DataFrame({'preference': ['None','-10','-9.9','-2.16','-4.67','-5.67','-2.83','-1.42'], \n",
    "                      'No. of Clusters': [n_clusters_ap,n_clusters_ap1,n_clusters_ap2,n_clusters_ap3,n_clusters_ap4,\n",
    "                                          n_clusters_ap5,n_clusters_ap6,n_clusters_ap7],\n",
    "                      'Silhoutte Score': [Si_ap,Si_ap1,Si_ap2,Si_ap3,Si_ap4,Si_ap5,Si_ap6,Si_ap7],\n",
    "                      'Davies-Bouldin Score': [DB_ap,DB_ap1,DB_ap2,DB_ap3,DB_ap4,DB_ap5,DB_ap6,DB_ap7],\n",
    "                      'Calinski-Harabasz Score': [CH_ap,CH_ap1,CH_ap2,CH_ap3,CH_ap4,CH_ap5,CH_ap6,CH_ap7]})\n",
    "\n",
    "\n",
    "print('============================== Affinity Propagation Scores With Different Hyper Parameters ==============================')\n",
    "print('\\n')\n",
    "print(\"damping:\", 0.5)\n",
    "print(\"Maximum number of iterations:\", 200)\n",
    "print(\"Convergence Iteration No.:\", 15)\n",
    "print(\"Affinity: Euclidean\")\n",
    "print(\"Random State No.:\",45)\n",
    "table2"
   ]
  },
  {
   "cell_type": "markdown",
   "metadata": {},
   "source": [
    "Hard to find the optimal number of clusters and validation scores from Affinity Propagation algorithm for this data set."
   ]
  },
  {
   "cell_type": "code",
   "execution_count": 57,
   "metadata": {},
   "outputs": [
    {
     "name": "stdout",
     "output_type": "stream",
     "text": [
      "Hyper parameter results for GMM algorithm\n"
     ]
    },
    {
     "data": {
      "text/html": [
       "<div>\n",
       "<style scoped>\n",
       "    .dataframe tbody tr th:only-of-type {\n",
       "        vertical-align: middle;\n",
       "    }\n",
       "\n",
       "    .dataframe tbody tr th {\n",
       "        vertical-align: top;\n",
       "    }\n",
       "\n",
       "    .dataframe thead th {\n",
       "        text-align: right;\n",
       "    }\n",
       "</style>\n",
       "<table border=\"1\" class=\"dataframe\">\n",
       "  <thead>\n",
       "    <tr style=\"text-align: right;\">\n",
       "      <th></th>\n",
       "      <th>n_components</th>\n",
       "      <th>covariance_type</th>\n",
       "      <th>No. of Clusters</th>\n",
       "      <th>Silhoutte Score</th>\n",
       "      <th>Davies-Bouldin Score</th>\n",
       "      <th>Calinski-Harabasz Score</th>\n",
       "    </tr>\n",
       "  </thead>\n",
       "  <tbody>\n",
       "    <tr>\n",
       "      <th>0</th>\n",
       "      <td>2</td>\n",
       "      <td>full</td>\n",
       "      <td>2</td>\n",
       "      <td>0.266</td>\n",
       "      <td>1.270</td>\n",
       "      <td>1865.101</td>\n",
       "    </tr>\n",
       "    <tr>\n",
       "      <th>1</th>\n",
       "      <td>2</td>\n",
       "      <td>tied</td>\n",
       "      <td>2</td>\n",
       "      <td>0.321</td>\n",
       "      <td>1.172</td>\n",
       "      <td>1798.862</td>\n",
       "    </tr>\n",
       "    <tr>\n",
       "      <th>2</th>\n",
       "      <td>2</td>\n",
       "      <td>diagonal</td>\n",
       "      <td>2</td>\n",
       "      <td>0.394</td>\n",
       "      <td>0.952</td>\n",
       "      <td>3831.583</td>\n",
       "    </tr>\n",
       "    <tr>\n",
       "      <th>3</th>\n",
       "      <td>3</td>\n",
       "      <td>full</td>\n",
       "      <td>3</td>\n",
       "      <td>0.027</td>\n",
       "      <td>2.240</td>\n",
       "      <td>703.067</td>\n",
       "    </tr>\n",
       "    <tr>\n",
       "      <th>4</th>\n",
       "      <td>3</td>\n",
       "      <td>tied</td>\n",
       "      <td>3</td>\n",
       "      <td>0.213</td>\n",
       "      <td>1.454</td>\n",
       "      <td>1456.752</td>\n",
       "    </tr>\n",
       "    <tr>\n",
       "      <th>5</th>\n",
       "      <td>3</td>\n",
       "      <td>diagonal</td>\n",
       "      <td>3</td>\n",
       "      <td>0.287</td>\n",
       "      <td>1.138</td>\n",
       "      <td>2939.585</td>\n",
       "    </tr>\n",
       "    <tr>\n",
       "      <th>6</th>\n",
       "      <td>4</td>\n",
       "      <td>full</td>\n",
       "      <td>4</td>\n",
       "      <td>0.040</td>\n",
       "      <td>2.187</td>\n",
       "      <td>788.728</td>\n",
       "    </tr>\n",
       "    <tr>\n",
       "      <th>7</th>\n",
       "      <td>4</td>\n",
       "      <td>tied</td>\n",
       "      <td>4</td>\n",
       "      <td>0.290</td>\n",
       "      <td>1.054</td>\n",
       "      <td>2260.788</td>\n",
       "    </tr>\n",
       "    <tr>\n",
       "      <th>8</th>\n",
       "      <td>4</td>\n",
       "      <td>diagonal</td>\n",
       "      <td>4</td>\n",
       "      <td>0.290</td>\n",
       "      <td>1.054</td>\n",
       "      <td>2260.788</td>\n",
       "    </tr>\n",
       "    <tr>\n",
       "      <th>9</th>\n",
       "      <td>5</td>\n",
       "      <td>full</td>\n",
       "      <td>5</td>\n",
       "      <td>0.092</td>\n",
       "      <td>2.406</td>\n",
       "      <td>907.477</td>\n",
       "    </tr>\n",
       "    <tr>\n",
       "      <th>10</th>\n",
       "      <td>5</td>\n",
       "      <td>tied</td>\n",
       "      <td>5</td>\n",
       "      <td>0.209</td>\n",
       "      <td>1.397</td>\n",
       "      <td>1140.560</td>\n",
       "    </tr>\n",
       "    <tr>\n",
       "      <th>11</th>\n",
       "      <td>5</td>\n",
       "      <td>diagonal</td>\n",
       "      <td>5</td>\n",
       "      <td>0.205</td>\n",
       "      <td>1.490</td>\n",
       "      <td>1955.572</td>\n",
       "    </tr>\n",
       "    <tr>\n",
       "      <th>12</th>\n",
       "      <td>6</td>\n",
       "      <td>full</td>\n",
       "      <td>6</td>\n",
       "      <td>0.090</td>\n",
       "      <td>2.635</td>\n",
       "      <td>717.453</td>\n",
       "    </tr>\n",
       "    <tr>\n",
       "      <th>13</th>\n",
       "      <td>6</td>\n",
       "      <td>diagonal</td>\n",
       "      <td>6</td>\n",
       "      <td>0.234</td>\n",
       "      <td>1.226</td>\n",
       "      <td>2028.196</td>\n",
       "    </tr>\n",
       "    <tr>\n",
       "      <th>14</th>\n",
       "      <td>6</td>\n",
       "      <td>tied</td>\n",
       "      <td>6</td>\n",
       "      <td>0.176</td>\n",
       "      <td>1.318</td>\n",
       "      <td>893.950</td>\n",
       "    </tr>\n",
       "    <tr>\n",
       "      <th>15</th>\n",
       "      <td>7</td>\n",
       "      <td>tied</td>\n",
       "      <td>7</td>\n",
       "      <td>0.116</td>\n",
       "      <td>1.550</td>\n",
       "      <td>992.184</td>\n",
       "    </tr>\n",
       "  </tbody>\n",
       "</table>\n",
       "</div>"
      ],
      "text/plain": [
       "   n_components covariance_type  No. of Clusters  Silhoutte Score  \\\n",
       "0             2            full                2            0.266   \n",
       "1             2            tied                2            0.321   \n",
       "2             2        diagonal                2            0.394   \n",
       "3             3            full                3            0.027   \n",
       "4             3            tied                3            0.213   \n",
       "5             3        diagonal                3            0.287   \n",
       "6             4            full                4            0.040   \n",
       "7             4            tied                4            0.290   \n",
       "8             4        diagonal                4            0.290   \n",
       "9             5            full                5            0.092   \n",
       "10            5            tied                5            0.209   \n",
       "11            5        diagonal                5            0.205   \n",
       "12            6            full                6            0.090   \n",
       "13            6        diagonal                6            0.234   \n",
       "14            6            tied                6            0.176   \n",
       "15            7            tied                7            0.116   \n",
       "\n",
       "    Davies-Bouldin Score  Calinski-Harabasz Score  \n",
       "0                  1.270                 1865.101  \n",
       "1                  1.172                 1798.862  \n",
       "2                  0.952                 3831.583  \n",
       "3                  2.240                  703.067  \n",
       "4                  1.454                 1456.752  \n",
       "5                  1.138                 2939.585  \n",
       "6                  2.187                  788.728  \n",
       "7                  1.054                 2260.788  \n",
       "8                  1.054                 2260.788  \n",
       "9                  2.406                  907.477  \n",
       "10                 1.397                 1140.560  \n",
       "11                 1.490                 1955.572  \n",
       "12                 2.635                  717.453  \n",
       "13                 1.226                 2028.196  \n",
       "14                 1.318                  893.950  \n",
       "15                 1.550                  992.184  "
      ]
     },
     "execution_count": 57,
     "metadata": {},
     "output_type": "execute_result"
    }
   ],
   "source": [
    "print(\"Hyper parameter results for GMM algorithm\")\n",
    "table"
   ]
  },
  {
   "cell_type": "markdown",
   "metadata": {},
   "source": []
  }
 ],
 "metadata": {
  "kernelspec": {
   "display_name": "Python 3",
   "language": "python",
   "name": "python3"
  },
  "language_info": {
   "codemirror_mode": {
    "name": "ipython",
    "version": 3
   },
   "file_extension": ".py",
   "mimetype": "text/x-python",
   "name": "python",
   "nbconvert_exporter": "python",
   "pygments_lexer": "ipython3",
   "version": "3.8.3"
  }
 },
 "nbformat": 4,
 "nbformat_minor": 4
}
